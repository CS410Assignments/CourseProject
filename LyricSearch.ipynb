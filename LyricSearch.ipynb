{
 "cells": [
  {
   "cell_type": "markdown",
   "metadata": {
    "id": "DlrmluRfNayp"
   },
   "source": [
    "First, we install the lyricsgenius API:"
   ]
  },
  {
   "cell_type": "code",
   "execution_count": 1,
   "metadata": {
    "colab": {
     "base_uri": "https://localhost:8080/"
    },
    "id": "2v6oNAIxM1TN",
    "outputId": "0912025a-a0ea-47e6-8445-0e0c3cb6360c"
   },
   "outputs": [
    {
     "name": "stdout",
     "output_type": "stream",
     "text": [
      "Requirement already satisfied: lyricsgenius in c:\\users\\joshu\\anaconda3\\lib\\site-packages (3.0.1)\n",
      "Requirement already satisfied: beautifulsoup4>=4.6.0 in c:\\users\\joshu\\anaconda3\\lib\\site-packages (from lyricsgenius) (4.9.3)\n",
      "Requirement already satisfied: requests>=2.20.0 in c:\\users\\joshu\\anaconda3\\lib\\site-packages (from lyricsgenius) (2.25.1)\n",
      "Requirement already satisfied: soupsieve>1.2 in c:\\users\\joshu\\anaconda3\\lib\\site-packages (from beautifulsoup4>=4.6.0->lyricsgenius) (2.2.1)\n",
      "Requirement already satisfied: idna<3,>=2.5 in c:\\users\\joshu\\anaconda3\\lib\\site-packages (from requests>=2.20.0->lyricsgenius) (2.10)\n",
      "Requirement already satisfied: certifi>=2017.4.17 in c:\\users\\joshu\\anaconda3\\lib\\site-packages (from requests>=2.20.0->lyricsgenius) (2020.12.5)\n",
      "Requirement already satisfied: urllib3<1.27,>=1.21.1 in c:\\users\\joshu\\anaconda3\\lib\\site-packages (from requests>=2.20.0->lyricsgenius) (1.26.4)\n",
      "Requirement already satisfied: chardet<5,>=3.0.2 in c:\\users\\joshu\\anaconda3\\lib\\site-packages (from requests>=2.20.0->lyricsgenius) (4.0.0)\n"
     ]
    }
   ],
   "source": [
    "!pip install lyricsgenius"
   ]
  },
  {
   "cell_type": "markdown",
   "metadata": {},
   "source": [
    "We import the libraries and set a path for our input file of artists:"
   ]
  },
  {
   "cell_type": "code",
   "execution_count": 1,
   "metadata": {
    "id": "AwPBO5kVbh-h"
   },
   "outputs": [],
   "source": [
    "from lyricsgenius import Genius\n",
    "import json\n",
    "import csv\n",
    "import multiprocessing\n",
    "import queue\n",
    "import logging\n",
    "\n",
    "# OS agnostic\n",
    "import os \n",
    "CSV_PATH = os.path.join(os.path.curdir, 'artists', '10000-MTV-Music-Artists-page-%s.csv')"
   ]
  },
  {
   "cell_type": "markdown",
   "metadata": {
    "id": "PjAsUT5ZOSex"
   },
   "source": [
    "Now we import the artist dataset into an array. This consists of the top 10,000 artists listed on MTV:"
   ]
  },
  {
   "cell_type": "markdown",
   "metadata": {},
   "source": [
    "We set up a lyricsgenius token, and use the API to pull the lyrics data for each artist in the dataset:"
   ]
  },
  {
   "cell_type": "code",
   "execution_count": null,
   "metadata": {
    "id": "7zBQzXBJNabo",
    "scrolled": false
   },
   "outputs": [
    {
     "name": "stderr",
     "output_type": "stream",
     "text": [
      "[INFO/SyncManager-1] child process calling self.run()\n",
      "[INFO/SyncManager-1] created temp directory /var/folders/jc/85vy06cn6b13gcm4rcvz9_fw0000gq/T/pymp-2c1gh2ix\n",
      "[INFO/SyncManager-1] manager serving at '/var/folders/jc/85vy06cn6b13gcm4rcvz9_fw0000gq/T/pymp-2c1gh2ix/listener-w0xzvj21'\n",
      "[DEBUG/MainProcess] requesting creation of a shared 'list' object\n",
      "[DEBUG/SyncManager-1] 'list' callable returned object with id '109298fc8'\n",
      "[DEBUG/MainProcess] INCREF '109298fc8'\n"
     ]
    },
    {
     "name": "stdout",
     "output_type": "stream",
     "text": [
      "Reading previous\n",
      "Multiprocessing with 32 processes\n"
     ]
    },
    {
     "name": "stderr",
     "output_type": "stream",
     "text": [
      "[DEBUG/SyncManager-2] INCREF '109298fc8'\n",
      "[INFO/SyncManager-2] child process calling self.run()\n",
      "[INFO/SyncManager-2] created temp directory /var/folders/jc/85vy06cn6b13gcm4rcvz9_fw0000gq/T/pymp-021lnn9z\n",
      "[DEBUG/MainProcess] requesting creation of a shared 'Queue' object\n",
      "[INFO/SyncManager-2] manager serving at '/var/folders/jc/85vy06cn6b13gcm4rcvz9_fw0000gq/T/pymp-021lnn9z/listener-aptz2jcy'\n",
      "[DEBUG/SyncManager-2] 'Queue' callable returned object with id '1092c8828'\n",
      "[DEBUG/MainProcess] INCREF '1092c8828'\n",
      "[DEBUG/MainProcess] thread 'MainThread' does not own a connection\n",
      "[DEBUG/MainProcess] making connection to manager\n",
      "[DEBUG/SyncManager-2] starting server thread to service 'MainProcess'\n",
      "[DEBUG/MainProcess] created semlock with handle 64\n",
      "[DEBUG/MainProcess] created semlock with handle 65\n",
      "[DEBUG/MainProcess] created semlock with handle 68\n",
      "[DEBUG/MainProcess] created semlock with handle 69\n"
     ]
    },
    {
     "name": "stdout",
     "output_type": "stream",
     "text": [
      "8376\n"
     ]
    },
    {
     "name": "stderr",
     "output_type": "stream",
     "text": [
      "[DEBUG/MainProcess] added worker\n",
      "[DEBUG/MainProcess] added worker\n",
      "[DEBUG/ForkPoolWorker-3] INCREF '109298fc8'[DEBUG/MainProcess] added worker\n",
      "\n",
      "[DEBUG/ForkPoolWorker-4] INCREF '109298fc8'[DEBUG/MainProcess] added worker\n",
      "[DEBUG/ForkPoolWorker-3] INCREF '1092c8828'\n",
      "\n",
      "[DEBUG/MainProcess] added worker\n",
      "[INFO/ForkPoolWorker-3] child process calling self.run()[DEBUG/ForkPoolWorker-4] INCREF '1092c8828'[DEBUG/ForkPoolWorker-5] INCREF '109298fc8'[DEBUG/MainProcess] added worker\n",
      "\n",
      "\n",
      "\n",
      "[DEBUG/MainProcess] added worker\n",
      "[INFO/ForkPoolWorker-4] child process calling self.run()\n",
      "[DEBUG/ForkPoolWorker-5] INCREF '1092c8828'[DEBUG/MainProcess] added worker\n",
      "[DEBUG/ForkPoolWorker-6] INCREF '109298fc8'\n",
      "\n",
      "[INFO/ForkPoolWorker-5] child process calling self.run()[DEBUG/MainProcess] added worker\n",
      "\n",
      "[DEBUG/ForkPoolWorker-6] INCREF '1092c8828'[DEBUG/ForkPoolWorker-7] INCREF '109298fc8'[DEBUG/MainProcess] added worker\n",
      "\n",
      "[INFO/ForkPoolWorker-6] child process calling self.run()\n",
      "[DEBUG/MainProcess] added worker\n",
      "\n",
      "[DEBUG/ForkPoolWorker-7] INCREF '1092c8828'[DEBUG/ForkPoolWorker-8] INCREF '109298fc8'[DEBUG/MainProcess] added worker\n",
      "\n",
      "\n",
      "[INFO/ForkPoolWorker-7] child process calling self.run()[DEBUG/MainProcess] added worker\n",
      "[DEBUG/ForkPoolWorker-8] INCREF '1092c8828'\n",
      "\n",
      "[DEBUG/ForkPoolWorker-9] INCREF '109298fc8'[DEBUG/MainProcess] added worker\n",
      "[INFO/ForkPoolWorker-8] child process calling self.run()\n",
      "\n",
      "[DEBUG/MainProcess] added worker\n",
      "[DEBUG/ForkPoolWorker-9] INCREF '1092c8828'[DEBUG/ForkPoolWorker-10] INCREF '109298fc8'\n",
      "[DEBUG/MainProcess] added worker\n",
      "\n",
      "[INFO/ForkPoolWorker-9] child process calling self.run()\n",
      "[DEBUG/MainProcess] added worker\n",
      "[DEBUG/ForkPoolWorker-10] INCREF '1092c8828'[DEBUG/ForkPoolWorker-11] INCREF '109298fc8'\n",
      "[DEBUG/MainProcess] added worker\n",
      "\n",
      "[INFO/ForkPoolWorker-10] child process calling self.run()\n",
      "[DEBUG/ForkPoolWorker-11] INCREF '1092c8828'\n",
      "[DEBUG/MainProcess] added worker\n",
      "[DEBUG/ForkPoolWorker-12] INCREF '109298fc8'\n",
      "[INFO/ForkPoolWorker-11] child process calling self.run()\n",
      "[DEBUG/ForkPoolWorker-12] INCREF '1092c8828'\n",
      "[DEBUG/MainProcess] added worker\n",
      "[DEBUG/ForkPoolWorker-13] INCREF '109298fc8'\n",
      "[INFO/ForkPoolWorker-12] child process calling self.run()\n",
      "[DEBUG/ForkPoolWorker-13] INCREF '1092c8828'[DEBUG/ForkPoolWorker-14] INCREF '109298fc8'\n",
      "[INFO/ForkPoolWorker-13] child process calling self.run()[DEBUG/MainProcess] added worker\n",
      "\n",
      "\n",
      "[DEBUG/ForkPoolWorker-14] INCREF '1092c8828'[DEBUG/ForkPoolWorker-15] INCREF '109298fc8'\n",
      "[DEBUG/MainProcess] added worker\n",
      "\n",
      "[INFO/ForkPoolWorker-14] child process calling self.run()\n",
      "[DEBUG/ForkPoolWorker-15] INCREF '1092c8828'[DEBUG/ForkPoolWorker-16] INCREF '109298fc8'\n",
      "[INFO/ForkPoolWorker-15] child process calling self.run()\n",
      "\n",
      "[DEBUG/MainProcess] added worker\n",
      "[DEBUG/ForkPoolWorker-16] INCREF '1092c8828'[DEBUG/ForkPoolWorker-17] INCREF '109298fc8'\n",
      "\n",
      "[INFO/ForkPoolWorker-16] child process calling self.run()\n",
      "[DEBUG/ForkPoolWorker-17] INCREF '1092c8828'\n",
      "[DEBUG/ForkPoolWorker-18] INCREF '109298fc8'[INFO/ForkPoolWorker-17] child process calling self.run()[DEBUG/MainProcess] added worker\n",
      "\n",
      "\n",
      "[DEBUG/ForkPoolWorker-18] INCREF '1092c8828'\n",
      "[DEBUG/ForkPoolWorker-19] INCREF '109298fc8'\n",
      "[INFO/ForkPoolWorker-18] child process calling self.run()[DEBUG/MainProcess] added worker\n",
      "\n",
      "[DEBUG/ForkPoolWorker-19] INCREF '1092c8828'[DEBUG/ForkPoolWorker-20] INCREF '109298fc8'\n",
      "\n",
      "[INFO/ForkPoolWorker-19] child process calling self.run()[DEBUG/ForkPoolWorker-20] INCREF '1092c8828'\n",
      "\n",
      "[DEBUG/ForkPoolWorker-21] INCREF '109298fc8'[INFO/ForkPoolWorker-20] child process calling self.run()[DEBUG/MainProcess] added worker\n",
      "\n",
      "\n",
      "[DEBUG/ForkPoolWorker-21] INCREF '1092c8828'\n",
      "[DEBUG/ForkPoolWorker-22] INCREF '109298fc8'[INFO/ForkPoolWorker-21] child process calling self.run()\n",
      "\n",
      "[DEBUG/MainProcess] added worker\n",
      "[DEBUG/ForkPoolWorker-22] INCREF '1092c8828'\n",
      "[DEBUG/ForkPoolWorker-23] INCREF '109298fc8'[INFO/ForkPoolWorker-22] child process calling self.run()\n",
      "\n",
      "[DEBUG/ForkPoolWorker-23] INCREF '1092c8828'[DEBUG/MainProcess] added worker\n",
      "\n",
      "[DEBUG/ForkPoolWorker-24] INCREF '109298fc8'\n",
      "[INFO/ForkPoolWorker-23] child process calling self.run()\n",
      "[DEBUG/ForkPoolWorker-24] INCREF '1092c8828'\n",
      "[DEBUG/ForkPoolWorker-25] INCREF '109298fc8'[INFO/ForkPoolWorker-24] child process calling self.run()\n",
      "\n",
      "[DEBUG/ForkPoolWorker-25] INCREF '1092c8828'\n",
      "[DEBUG/MainProcess] added worker\n",
      "[DEBUG/ForkPoolWorker-26] INCREF '109298fc8'[INFO/ForkPoolWorker-25] child process calling self.run()\n",
      "\n",
      "[DEBUG/ForkPoolWorker-26] INCREF '1092c8828'\n",
      "[DEBUG/ForkPoolWorker-27] INCREF '109298fc8'[INFO/ForkPoolWorker-26] child process calling self.run()[DEBUG/MainProcess] added worker\n",
      "\n",
      "\n",
      "[DEBUG/ForkPoolWorker-27] INCREF '1092c8828'\n",
      "[DEBUG/ForkPoolWorker-28] INCREF '109298fc8'[INFO/ForkPoolWorker-27] child process calling self.run()\n",
      "\n",
      "[DEBUG/ForkPoolWorker-28] INCREF '1092c8828'\n",
      "[DEBUG/ForkPoolWorker-29] INCREF '109298fc8'[INFO/ForkPoolWorker-28] child process calling self.run()\n",
      "\n",
      "[DEBUG/MainProcess] added worker\n",
      "[DEBUG/ForkPoolWorker-29] INCREF '1092c8828'\n",
      "[DEBUG/ForkPoolWorker-30] INCREF '109298fc8'[INFO/ForkPoolWorker-29] child process calling self.run()\n",
      "\n",
      "[DEBUG/ForkPoolWorker-30] INCREF '1092c8828'\n",
      "[DEBUG/ForkPoolWorker-31] INCREF '109298fc8'[DEBUG/MainProcess] added worker\n",
      "[INFO/ForkPoolWorker-30] child process calling self.run()\n",
      "\n",
      "[DEBUG/ForkPoolWorker-31] INCREF '1092c8828'\n",
      "[DEBUG/ForkPoolWorker-32] INCREF '109298fc8'[INFO/ForkPoolWorker-31] child process calling self.run()\n",
      "\n",
      "[DEBUG/ForkPoolWorker-32] INCREF '1092c8828'\n",
      "[INFO/ForkPoolWorker-32] child process calling self.run()[DEBUG/ForkPoolWorker-33] INCREF '109298fc8'\n",
      "\n",
      "[DEBUG/ForkPoolWorker-33] INCREF '1092c8828'[DEBUG/ForkPoolWorker-3] INCREF '1092c8828'\n",
      "[DEBUG/ForkPoolWorker-4] INCREF '1092c8828'[DEBUG/ForkPoolWorker-5] INCREF '1092c8828'[DEBUG/ForkPoolWorker-34] INCREF '109298fc8'[DEBUG/ForkPoolWorker-27] worker got EOFError or OSError -- exiting[DEBUG/ForkPoolWorker-6] INCREF '1092c8828'[DEBUG/ForkPoolWorker-8] INCREF '1092c8828'[DEBUG/ForkPoolWorker-7] INCREF '1092c8828'[DEBUG/ForkPoolWorker-29] worker got EOFError or OSError -- exiting[DEBUG/ForkPoolWorker-28] worker got EOFError or OSError -- exiting[DEBUG/ForkPoolWorker-26] worker got EOFError or OSError -- exiting[DEBUG/ForkPoolWorker-30] worker got EOFError or OSError -- exiting[DEBUG/ForkPoolWorker-32] worker got EOFError or OSError -- exiting[DEBUG/ForkPoolWorker-9] INCREF '1092c8828'[INFO/ForkPoolWorker-33] child process calling self.run()\n",
      "[DEBUG/ForkPoolWorker-10] INCREF '1092c8828'\n",
      "[DEBUG/ForkPoolWorker-12] INCREF '1092c8828'[DEBUG/ForkPoolWorker-11] INCREF '1092c8828'[DEBUG/ForkPoolWorker-15] INCREF '1092c8828'\n",
      "\n",
      "\n",
      "\n",
      "[DEBUG/ForkPoolWorker-14] INCREF '1092c8828'\n",
      "[DEBUG/ForkPoolWorker-13] INCREF '1092c8828'\n",
      "\n",
      "[DEBUG/ForkPoolWorker-16] INCREF '1092c8828'\n",
      "[DEBUG/ForkPoolWorker-17] INCREF '1092c8828'\n",
      "\n",
      "\n",
      "\n",
      "[DEBUG/ForkPoolWorker-19] INCREF '1092c8828'[DEBUG/ForkPoolWorker-18] INCREF '1092c8828'[DEBUG/ForkPoolWorker-20] INCREF '1092c8828'\n"
     ]
    },
    {
     "name": "stdout",
     "output_type": "stream",
     "text": [
      "[0] Starting\n"
     ]
    },
    {
     "name": "stderr",
     "output_type": "stream",
     "text": [
      "\n",
      "[DEBUG/ForkPoolWorker-21] INCREF '1092c8828'"
     ]
    },
    {
     "name": "stdout",
     "output_type": "stream",
     "text": [
      "[1] Starting\n"
     ]
    },
    {
     "name": "stderr",
     "output_type": "stream",
     "text": [
      "[DEBUG/ForkPoolWorker-23] INCREF '1092c8828'\n",
      "[DEBUG/ForkPoolWorker-22] INCREF '1092c8828'\n",
      "[DEBUG/ForkPoolWorker-25] INCREF '1092c8828'\n",
      "[DEBUG/ForkPoolWorker-24] INCREF '1092c8828'"
     ]
    },
    {
     "name": "stdout",
     "output_type": "stream",
     "text": [
      "[2] Starting\n"
     ]
    },
    {
     "name": "stderr",
     "output_type": "stream",
     "text": [
      "[DEBUG/ForkPoolWorker-27] worker exiting after 0 tasks"
     ]
    },
    {
     "name": "stdout",
     "output_type": "stream",
     "text": [
      "[3] Starting\n"
     ]
    },
    {
     "name": "stderr",
     "output_type": "stream",
     "text": [
      "[DEBUG/ForkPoolWorker-31] INCREF '1092c8828'\n"
     ]
    },
    {
     "name": "stdout",
     "output_type": "stream",
     "text": [
      "[5] Starting\n"
     ]
    },
    {
     "name": "stderr",
     "output_type": "stream",
     "text": [
      "\n",
      "[DEBUG/ForkPoolWorker-29] worker exiting after 0 tasks\n"
     ]
    },
    {
     "name": "stdout",
     "output_type": "stream",
     "text": [
      "[4] Starting\n"
     ]
    },
    {
     "name": "stderr",
     "output_type": "stream",
     "text": [
      "[DEBUG/ForkPoolWorker-34] INCREF '1092c8828'[DEBUG/ForkPoolWorker-28] worker exiting after 0 tasks\n",
      "[DEBUG/ForkPoolWorker-30] worker exiting after 0 tasks"
     ]
    },
    {
     "name": "stdout",
     "output_type": "stream",
     "text": [
      "[6] Starting\n"
     ]
    },
    {
     "name": "stderr",
     "output_type": "stream",
     "text": [
      "[DEBUG/ForkPoolWorker-32] worker exiting after 0 tasks[DEBUG/ForkPoolWorker-26] worker exiting after 0 tasks\n",
      "\n",
      "\n",
      "[DEBUG/ForkPoolWorker-3] thread 'MainThread' does not own a connection"
     ]
    },
    {
     "name": "stdout",
     "output_type": "stream",
     "text": [
      "[7] Starting\n"
     ]
    },
    {
     "name": "stderr",
     "output_type": "stream",
     "text": [
      "\n",
      "\n",
      "[DEBUG/ForkPoolWorker-4] thread 'MainThread' does not own a connection[DEBUG/ForkPoolWorker-33] INCREF '1092c8828'"
     ]
    },
    {
     "name": "stdout",
     "output_type": "stream",
     "text": [
      "[9] Starting\n"
     ]
    },
    {
     "name": "stderr",
     "output_type": "stream",
     "text": [
      "\n",
      "\n"
     ]
    },
    {
     "name": "stdout",
     "output_type": "stream",
     "text": [
      "[12] Starting\n",
      "[8] Starting\n"
     ]
    },
    {
     "name": "stderr",
     "output_type": "stream",
     "text": [
      "\n",
      "\n",
      "[DEBUG/ForkPoolWorker-5] thread 'MainThread' does not own a connection\n"
     ]
    },
    {
     "name": "stdout",
     "output_type": "stream",
     "text": [
      "[11] Starting\n"
     ]
    },
    {
     "name": "stderr",
     "output_type": "stream",
     "text": [
      "[DEBUG/ForkPoolWorker-6] thread 'MainThread' does not own a connection"
     ]
    },
    {
     "name": "stdout",
     "output_type": "stream",
     "text": [
      "[10] Starting\n"
     ]
    },
    {
     "name": "stderr",
     "output_type": "stream",
     "text": [
      "[DEBUG/ForkPoolWorker-8] thread 'MainThread' does not own a connection\n"
     ]
    },
    {
     "name": "stdout",
     "output_type": "stream",
     "text": [
      "[13] Starting\n"
     ]
    },
    {
     "name": "stderr",
     "output_type": "stream",
     "text": [
      "[DEBUG/ForkPoolWorker-7] thread 'MainThread' does not own a connection\n",
      "\n",
      "\n"
     ]
    },
    {
     "name": "stdout",
     "output_type": "stream",
     "text": [
      "[14] Starting\n"
     ]
    },
    {
     "name": "stderr",
     "output_type": "stream",
     "text": [
      "[DEBUG/ForkPoolWorker-9] thread 'MainThread' does not own a connection\n",
      "\n"
     ]
    },
    {
     "name": "stdout",
     "output_type": "stream",
     "text": [
      "[16] Starting\n",
      "[15] Starting\n"
     ]
    },
    {
     "name": "stderr",
     "output_type": "stream",
     "text": [
      "\n"
     ]
    },
    {
     "name": "stdout",
     "output_type": "stream",
     "text": [
      "[17] Starting\n"
     ]
    },
    {
     "name": "stderr",
     "output_type": "stream",
     "text": [
      "[DEBUG/ForkPoolWorker-10] thread 'MainThread' does not own a connection"
     ]
    },
    {
     "name": "stdout",
     "output_type": "stream",
     "text": [
      "[20] Starting\n",
      "[18] Starting\n"
     ]
    },
    {
     "name": "stderr",
     "output_type": "stream",
     "text": [
      "[DEBUG/ForkPoolWorker-12] thread 'MainThread' does not own a connection\n",
      "\n"
     ]
    },
    {
     "name": "stdout",
     "output_type": "stream",
     "text": [
      "[19] Starting\n"
     ]
    },
    {
     "name": "stderr",
     "output_type": "stream",
     "text": [
      "[DEBUG/ForkPoolWorker-15] thread 'MainThread' does not own a connection"
     ]
    },
    {
     "name": "stdout",
     "output_type": "stream",
     "text": [
      "[22] Starting\n"
     ]
    },
    {
     "name": "stderr",
     "output_type": "stream",
     "text": [
      "[INFO/ForkPoolWorker-27] process shutting down[DEBUG/ForkPoolWorker-11] thread 'MainThread' does not own a connection"
     ]
    },
    {
     "name": "stdout",
     "output_type": "stream",
     "text": [
      "[21] Starting\n"
     ]
    },
    {
     "name": "stderr",
     "output_type": "stream",
     "text": [
      "\n"
     ]
    },
    {
     "name": "stdout",
     "output_type": "stream",
     "text": [
      "[28] Starting\n"
     ]
    },
    {
     "name": "stderr",
     "output_type": "stream",
     "text": [
      "\n",
      "[DEBUG/ForkPoolWorker-13] thread 'MainThread' does not own a connection\n",
      "[DEBUG/ForkPoolWorker-14] thread 'MainThread' does not own a connection[INFO/ForkPoolWorker-29] process shutting down[DEBUG/ForkPoolWorker-16] thread 'MainThread' does not own a connection[INFO/ForkPoolWorker-28] process shutting down\n",
      "[INFO/ForkPoolWorker-34] child process calling self.run()[INFO/ForkPoolWorker-30] process shutting down\n",
      "[DEBUG/ForkPoolWorker-17] thread 'MainThread' does not own a connection[INFO/ForkPoolWorker-32] process shutting down[INFO/ForkPoolWorker-26] process shutting down[DEBUG/ForkPoolWorker-19] thread 'MainThread' does not own a connection[DEBUG/ForkPoolWorker-18] thread 'MainThread' does not own a connection[DEBUG/ForkPoolWorker-3] making connection to manager[DEBUG/ForkPoolWorker-20] thread 'MainThread' does not own a connection[DEBUG/ForkPoolWorker-21] thread 'MainThread' does not own a connection\n",
      "[DEBUG/ForkPoolWorker-23] thread 'MainThread' does not own a connection[DEBUG/ForkPoolWorker-4] making connection to manager\n"
     ]
    },
    {
     "name": "stdout",
     "output_type": "stream",
     "text": [
      "[30] Starting\n"
     ]
    },
    {
     "name": "stderr",
     "output_type": "stream",
     "text": [
      "[DEBUG/ForkPoolWorker-22] thread 'MainThread' does not own a connection\n",
      "[DEBUG/ForkPoolWorker-25] thread 'MainThread' does not own a connection\n",
      "\n",
      "[DEBUG/ForkPoolWorker-24] thread 'MainThread' does not own a connection[DEBUG/ForkPoolWorker-5] making connection to manager\n",
      "[DEBUG/ForkPoolWorker-8] making connection to manager[DEBUG/ForkPoolWorker-6] making connection to manager[DEBUG/ForkPoolWorker-31] thread 'MainThread' does not own a connection\n",
      "\n",
      "\n",
      "\n",
      "[DEBUG/ForkPoolWorker-7] making connection to manager\n",
      "\n",
      "\n",
      "\n",
      "[DEBUG/ForkPoolWorker-9] making connection to manager\n",
      "\n",
      "\n",
      "\n",
      "\n",
      "[DEBUG/ForkPoolWorker-10] making connection to manager\n",
      "\n",
      "\n",
      "[DEBUG/ForkPoolWorker-12] making connection to manager[DEBUG/ForkPoolWorker-33] thread 'MainThread' does not own a connection\n",
      "\n",
      "[DEBUG/ForkPoolWorker-15] making connection to manager\n",
      "[DEBUG/ForkPoolWorker-11] making connection to manager[DEBUG/ForkPoolWorker-27] running all \"atexit\" finalizers with priority >= 0\n",
      "\n",
      "[DEBUG/ForkPoolWorker-13] making connection to manager\n",
      "[DEBUG/ForkPoolWorker-14] making connection to manager\n",
      "[DEBUG/ForkPoolWorker-29] running all \"atexit\" finalizers with priority >= 0[DEBUG/ForkPoolWorker-28] running all \"atexit\" finalizers with priority >= 0[DEBUG/ForkPoolWorker-16] making connection to manager\n",
      "[DEBUG/ForkPoolWorker-30] running all \"atexit\" finalizers with priority >= 0[DEBUG/ForkPoolWorker-32] running all \"atexit\" finalizers with priority >= 0\n",
      "[DEBUG/ForkPoolWorker-17] making connection to manager[DEBUG/ForkPoolWorker-19] making connection to manager[DEBUG/ForkPoolWorker-26] running all \"atexit\" finalizers with priority >= 0[DEBUG/ForkPoolWorker-34] INCREF '1092c8828'[DEBUG/ForkPoolWorker-18] making connection to manager\n",
      "[DEBUG/ForkPoolWorker-20] making connection to manager[DEBUG/SyncManager-2] starting server thread to service 'ForkPoolWorker-3'[DEBUG/ForkPoolWorker-23] making connection to manager\n",
      "[DEBUG/ForkPoolWorker-21] making connection to manager\n",
      "\n",
      "[DEBUG/ForkPoolWorker-25] making connection to manager[DEBUG/ForkPoolWorker-22] making connection to manager[DEBUG/ForkPoolWorker-24] making connection to manager\n",
      "\n",
      "\n",
      "\n",
      "[DEBUG/ForkPoolWorker-31] making connection to manager\n",
      "\n",
      "\n",
      "\n",
      "\n",
      "\n",
      "\n",
      "\n",
      "\n",
      "\n",
      "\n",
      "\n",
      "\n",
      "\n",
      "\n",
      "[DEBUG/ForkPoolWorker-33] making connection to manager\n",
      "\n",
      "[DEBUG/ForkPoolWorker-27] DECREF '1092c8828'\n",
      "[DEBUG/ForkPoolWorker-28] DECREF '1092c8828'[DEBUG/ForkPoolWorker-29] DECREF '1092c8828'[DEBUG/ForkPoolWorker-30] DECREF '1092c8828'[DEBUG/ForkPoolWorker-32] DECREF '1092c8828'[DEBUG/ForkPoolWorker-26] DECREF '1092c8828'"
     ]
    },
    {
     "name": "stdout",
     "output_type": "stream",
     "text": [
      "[31] Starting\n",
      "[0] Searching Adele\n"
     ]
    },
    {
     "name": "stderr",
     "output_type": "stream",
     "text": [
      "[DEBUG/SyncManager-2] starting server thread to service 'ForkPoolWorker-4'\n",
      "\n",
      "\n",
      "\n",
      "\n",
      "\n",
      "\n",
      "[DEBUG/ForkPoolWorker-34] thread 'MainThread' does not own a connection\n",
      "\n",
      "[DEBUG/SyncManager-2] starting server thread to service 'ForkPoolWorker-5'[DEBUG/ForkPoolWorker-27] DECREF '109298fc8'"
     ]
    },
    {
     "name": "stdout",
     "output_type": "stream",
     "text": [
      "[1] Searching Joey + Rory\n"
     ]
    },
    {
     "name": "stderr",
     "output_type": "stream",
     "text": [
      "[DEBUG/ForkPoolWorker-29] DECREF '109298fc8'\n",
      "[DEBUG/ForkPoolWorker-34] making connection to manager[DEBUG/ForkPoolWorker-28] DECREF '109298fc8'\n",
      "[DEBUG/ForkPoolWorker-32] DECREF '109298fc8'[DEBUG/ForkPoolWorker-30] DECREF '109298fc8'[DEBUG/ForkPoolWorker-26] DECREF '109298fc8'\n",
      "\n",
      "\n"
     ]
    },
    {
     "name": "stdout",
     "output_type": "stream",
     "text": [
      "[2] Searching Draaco Aventura\n"
     ]
    },
    {
     "name": "stderr",
     "output_type": "stream",
     "text": [
      "[DEBUG/SyncManager-2] starting server thread to service 'ForkPoolWorker-8'\n",
      "\n",
      "[DEBUG/ForkPoolWorker-27] running the remaining \"atexit\" finalizers\n",
      "[DEBUG/ForkPoolWorker-29] running the remaining \"atexit\" finalizers\n",
      "\n",
      "[DEBUG/ForkPoolWorker-28] running the remaining \"atexit\" finalizers[DEBUG/ForkPoolWorker-30] running the remaining \"atexit\" finalizers\n",
      "[DEBUG/SyncManager-2] starting server thread to service 'ForkPoolWorker-6'[DEBUG/ForkPoolWorker-32] running the remaining \"atexit\" finalizers[DEBUG/ForkPoolWorker-26] running the remaining \"atexit\" finalizers"
     ]
    },
    {
     "name": "stdout",
     "output_type": "stream",
     "text": [
      "[5] Searching Justin Bieber\n"
     ]
    },
    {
     "name": "stderr",
     "output_type": "stream",
     "text": [
      "[INFO/ForkPoolWorker-29] process exiting with exitcode 0\n",
      "[INFO/ForkPoolWorker-27] process exiting with exitcode 0\n",
      "\n",
      "\n",
      "\n",
      "\n",
      "[INFO/ForkPoolWorker-30] process exiting with exitcode 0\n",
      "[INFO/ForkPoolWorker-28] process exiting with exitcode 0"
     ]
    },
    {
     "name": "stdout",
     "output_type": "stream",
     "text": [
      "[3] Searching Peer van Mladen\n"
     ]
    },
    {
     "name": "stderr",
     "output_type": "stream",
     "text": [
      "[DEBUG/SyncManager-2] starting server thread to service 'ForkPoolWorker-7'[INFO/ForkPoolWorker-32] process exiting with exitcode 0[INFO/ForkPoolWorker-26] process exiting with exitcode 0\n",
      "\n",
      "\n",
      "\n",
      "\n",
      "[DEBUG/SyncManager-2] starting server thread to service 'ForkPoolWorker-9'"
     ]
    },
    {
     "name": "stdout",
     "output_type": "stream",
     "text": [
      "[4] Searching Chris Janson\n"
     ]
    },
    {
     "name": "stderr",
     "output_type": "stream",
     "text": [
      "\n"
     ]
    },
    {
     "name": "stdout",
     "output_type": "stream",
     "text": [
      "[6] Searching One Direction\n"
     ]
    },
    {
     "name": "stderr",
     "output_type": "stream",
     "text": [
      "[DEBUG/SyncManager-2] starting server thread to service 'ForkPoolWorker-10'\n",
      "[DEBUG/SyncManager-2] starting server thread to service 'ForkPoolWorker-12'"
     ]
    },
    {
     "name": "stdout",
     "output_type": "stream",
     "text": [
      "[7] Searching Drake\n"
     ]
    },
    {
     "name": "stderr",
     "output_type": "stream",
     "text": [
      "\n",
      "[DEBUG/SyncManager-2] starting server thread to service 'ForkPoolWorker-15'"
     ]
    },
    {
     "name": "stdout",
     "output_type": "stream",
     "text": [
      "[9] Searching Carrie Underwood\n"
     ]
    },
    {
     "name": "stderr",
     "output_type": "stream",
     "text": [
      "\n",
      "[DEBUG/SyncManager-2] starting server thread to service 'ForkPoolWorker-13'"
     ]
    },
    {
     "name": "stdout",
     "output_type": "stream",
     "text": [
      "[12] Searching Ed Sheeran\n"
     ]
    },
    {
     "name": "stderr",
     "output_type": "stream",
     "text": [
      "\n",
      "[DEBUG/SyncManager-2] starting server thread to service 'ForkPoolWorker-11'"
     ]
    },
    {
     "name": "stdout",
     "output_type": "stream",
     "text": [
      "[10] Searching Taylor Swift\n"
     ]
    },
    {
     "name": "stderr",
     "output_type": "stream",
     "text": [
      "\n"
     ]
    },
    {
     "name": "stdout",
     "output_type": "stream",
     "text": [
      "[8] Searching SayWeCanFly\n"
     ]
    },
    {
     "name": "stderr",
     "output_type": "stream",
     "text": [
      "[DEBUG/SyncManager-2] starting server thread to service 'ForkPoolWorker-14'\n",
      "[DEBUG/SyncManager-2] starting server thread to service 'ForkPoolWorker-17'"
     ]
    },
    {
     "name": "stdout",
     "output_type": "stream",
     "text": [
      "[11] Searching Selena Gomez\n"
     ]
    },
    {
     "name": "stderr",
     "output_type": "stream",
     "text": [
      "\n",
      "[DEBUG/MainProcess] cleaning up worker 29\n",
      "[DEBUG/MainProcess] cleaning up worker 27\n"
     ]
    },
    {
     "name": "stdout",
     "output_type": "stream",
     "text": [
      "[14] Searching Chris Brown\n"
     ]
    },
    {
     "name": "stderr",
     "output_type": "stream",
     "text": [
      "[DEBUG/MainProcess] cleaning up worker 26\n",
      "[DEBUG/SyncManager-2] starting server thread to service 'ForkPoolWorker-19'[DEBUG/MainProcess] cleaning up worker 25\n",
      "\n",
      "[DEBUG/MainProcess] cleaning up worker 24\n",
      "[DEBUG/MainProcess] cleaning up worker 23\n"
     ]
    },
    {
     "name": "stdout",
     "output_type": "stream",
     "text": [
      "[16] Searching Nicki Minaj\n"
     ]
    },
    {
     "name": "stderr",
     "output_type": "stream",
     "text": [
      "[DEBUG/MainProcess] cleaning up worker 12\n",
      "[DEBUG/MainProcess] cleaning up worker 10\n",
      "[DEBUG/SyncManager-2] starting server thread to service 'ForkPoolWorker-18'[DEBUG/MainProcess] cleaning up worker 9\n",
      "[DEBUG/MainProcess] cleaning up worker 8\n",
      "\n",
      "[DEBUG/MainProcess] cleaning up worker 7\n",
      "[DEBUG/MainProcess] cleaning up worker 6\n",
      "[DEBUG/SyncManager-2] starting server thread to service 'ForkPoolWorker-16'[DEBUG/MainProcess] cleaning up worker 5\n",
      "[DEBUG/MainProcess] cleaning up worker 4\n"
     ]
    },
    {
     "name": "stdout",
     "output_type": "stream",
     "text": [
      "[15] Searching Fifth Harmony\n"
     ]
    },
    {
     "name": "stderr",
     "output_type": "stream",
     "text": [
      "[DEBUG/MainProcess] cleaning up worker 3\n",
      "[DEBUG/MainProcess] cleaning up worker 2\n",
      "\n",
      "[DEBUG/MainProcess] cleaning up worker 1\n",
      "[DEBUG/MainProcess] cleaning up worker 0\n",
      "[DEBUG/SyncManager-2] starting server thread to service 'ForkPoolWorker-20'"
     ]
    },
    {
     "name": "stdout",
     "output_type": "stream",
     "text": [
      "[13] Searching Thomas Rhett\n"
     ]
    },
    {
     "name": "stderr",
     "output_type": "stream",
     "text": [
      "[DEBUG/MainProcess] added worker\n",
      "\n",
      "[DEBUG/SyncManager-2] starting server thread to service 'ForkPoolWorker-23'"
     ]
    },
    {
     "name": "stdout",
     "output_type": "stream",
     "text": [
      "[17] Searching Eminem\n"
     ]
    },
    {
     "name": "stderr",
     "output_type": "stream",
     "text": [
      "\n",
      "[DEBUG/SyncManager-2] starting server thread to service 'ForkPoolWorker-21'[DEBUG/MainProcess] added worker\n"
     ]
    },
    {
     "name": "stdout",
     "output_type": "stream",
     "text": [
      "[20] Searching Beyoncé\n"
     ]
    },
    {
     "name": "stderr",
     "output_type": "stream",
     "text": [
      "\n"
     ]
    },
    {
     "name": "stdout",
     "output_type": "stream",
     "text": [
      "[18] Searching Meghan Trainor\n"
     ]
    },
    {
     "name": "stderr",
     "output_type": "stream",
     "text": [
      "[DEBUG/SyncManager-2] starting server thread to service 'ForkPoolWorker-25'[DEBUG/MainProcess] added worker\n",
      "\n",
      "[DEBUG/SyncManager-2] starting server thread to service 'ForkPoolWorker-22'[DEBUG/MainProcess] added worker\n"
     ]
    },
    {
     "name": "stdout",
     "output_type": "stream",
     "text": [
      "[22] Searching Twenty One Pilots\n"
     ]
    },
    {
     "name": "stderr",
     "output_type": "stream",
     "text": [
      "\n",
      "[DEBUG/ForkPoolWorker-35] INCREF '109298fc8'[DEBUG/SyncManager-2] starting server thread to service 'ForkPoolWorker-31'"
     ]
    },
    {
     "name": "stdout",
     "output_type": "stream",
     "text": [
      "[19] Searching Fetty Wap\n"
     ]
    },
    {
     "name": "stderr",
     "output_type": "stream",
     "text": [
      "\n",
      "[DEBUG/MainProcess] added worker\n",
      "\n",
      "[DEBUG/ForkPoolWorker-35] INCREF '1092c8828'"
     ]
    },
    {
     "name": "stdout",
     "output_type": "stream",
     "text": [
      "[28] Searching 5 Seconds Of Summer\n"
     ]
    },
    {
     "name": "stderr",
     "output_type": "stream",
     "text": [
      "[DEBUG/SyncManager-2] starting server thread to service 'ForkPoolWorker-24'\n",
      "[DEBUG/ForkPoolWorker-36] INCREF '109298fc8'[DEBUG/MainProcess] added worker\n",
      "\n",
      "[INFO/ForkPoolWorker-35] child process calling self.run()\n",
      "[DEBUG/SyncManager-2] starting server thread to service 'ForkPoolWorker-33'\n"
     ]
    },
    {
     "name": "stdout",
     "output_type": "stream",
     "text": [
      "[21] Searching Jason Aldean\n"
     ]
    },
    {
     "name": "stderr",
     "output_type": "stream",
     "text": [
      "\n",
      "[DEBUG/MainProcess] added worker\n",
      "[DEBUG/ForkPoolWorker-36] INCREF '1092c8828'\n",
      "[DEBUG/ForkPoolWorker-37] INCREF '109298fc8'[DEBUG/SyncManager-2] starting server thread to service 'ForkPoolWorker-34'"
     ]
    },
    {
     "name": "stdout",
     "output_type": "stream",
     "text": [
      "[30] Searching Luke Bryan\n"
     ]
    },
    {
     "name": "stderr",
     "output_type": "stream",
     "text": [
      "[INFO/ForkPoolWorker-36] child process calling self.run()\n",
      "\n",
      "\n",
      "[DEBUG/MainProcess] added worker\n"
     ]
    },
    {
     "name": "stdout",
     "output_type": "stream",
     "text": [
      "[31] Searching Blake Shelton\n"
     ]
    },
    {
     "name": "stderr",
     "output_type": "stream",
     "text": [
      "[DEBUG/SyncManager-2] got EOF -- exiting thread serving 'ForkPoolWorker-3'[DEBUG/ForkPoolWorker-37] INCREF '1092c8828'\n",
      "[DEBUG/ForkPoolWorker-38] INCREF '109298fc8'[DEBUG/MainProcess] added worker\n",
      "[DEBUG/SyncManager-2] got EOF -- exiting thread serving 'ForkPoolWorker-4'\n",
      "\n",
      "\n",
      "[INFO/ForkPoolWorker-37] child process calling self.run()[DEBUG/SyncManager-2] got EOF -- exiting thread serving 'ForkPoolWorker-5'[DEBUG/ForkPoolWorker-38] INCREF '1092c8828'\n",
      "\n",
      "[DEBUG/SyncManager-2] got EOF -- exiting thread serving 'ForkPoolWorker-8'\n",
      "[DEBUG/MainProcess] added worker\n",
      "[DEBUG/ForkPoolWorker-39] INCREF '109298fc8'\n",
      "[INFO/ForkPoolWorker-38] child process calling self.run()\n",
      "[DEBUG/SyncManager-2] got EOF -- exiting thread serving 'ForkPoolWorker-6'\n",
      "[DEBUG/MainProcess] added worker\n",
      "\n",
      "[DEBUG/ForkPoolWorker-39] INCREF '1092c8828'[DEBUG/SyncManager-2] got EOF -- exiting thread serving 'ForkPoolWorker-7'\n",
      "[DEBUG/ForkPoolWorker-40] INCREF '109298fc8'[INFO/ForkPoolWorker-39] child process calling self.run()\n",
      "\n",
      "\n",
      "[DEBUG/SyncManager-2] got EOF -- exiting thread serving 'ForkPoolWorker-9'\n",
      "[DEBUG/ForkPoolWorker-40] INCREF '1092c8828'[DEBUG/SyncManager-2] got EOF -- exiting thread serving 'ForkPoolWorker-10'[DEBUG/MainProcess] added worker\n",
      "\n",
      "[DEBUG/ForkPoolWorker-41] INCREF '109298fc8'\n",
      "[INFO/ForkPoolWorker-40] child process calling self.run()\n",
      "[DEBUG/SyncManager-2] got EOF -- exiting thread serving 'ForkPoolWorker-12'\n",
      "[DEBUG/MainProcess] added worker\n",
      "\n",
      "[DEBUG/ForkPoolWorker-41] INCREF '1092c8828'[DEBUG/SyncManager-2] got EOF -- exiting thread serving 'ForkPoolWorker-15'[DEBUG/ForkPoolWorker-42] INCREF '109298fc8'\n",
      "\n",
      "[DEBUG/SyncManager-2] got EOF -- exiting thread serving 'ForkPoolWorker-13'\n",
      "[INFO/ForkPoolWorker-41] child process calling self.run()\n",
      "\n",
      "[DEBUG/ForkPoolWorker-42] INCREF '1092c8828'[DEBUG/SyncManager-2] got EOF -- exiting thread serving 'ForkPoolWorker-11'[DEBUG/ForkPoolWorker-43] INCREF '109298fc8'[DEBUG/MainProcess] added worker\n",
      "\n",
      "\n",
      "[DEBUG/SyncManager-2] got EOF -- exiting thread serving 'ForkPoolWorker-14'\n",
      "[INFO/ForkPoolWorker-42] child process calling self.run()\n",
      "\n",
      "[DEBUG/ForkPoolWorker-43] INCREF '1092c8828'[DEBUG/SyncManager-2] got EOF -- exiting thread serving 'ForkPoolWorker-17'\n",
      "[DEBUG/ForkPoolWorker-44] INCREF '109298fc8'\n",
      "[INFO/ForkPoolWorker-43] child process calling self.run()[DEBUG/SyncManager-2] got EOF -- exiting thread serving 'ForkPoolWorker-19'\n",
      "\n",
      "[DEBUG/MainProcess] added worker\n",
      "\n",
      "[DEBUG/ForkPoolWorker-44] INCREF '1092c8828'[DEBUG/SyncManager-2] got EOF -- exiting thread serving 'ForkPoolWorker-18'\n",
      "\n",
      "[DEBUG/ForkPoolWorker-45] INCREF '109298fc8'[DEBUG/SyncManager-2] got EOF -- exiting thread serving 'ForkPoolWorker-16'[INFO/ForkPoolWorker-44] child process calling self.run()[DEBUG/MainProcess] added worker\n",
      "\n",
      "\n",
      "\n",
      "[DEBUG/SyncManager-2] got EOF -- exiting thread serving 'ForkPoolWorker-20'[DEBUG/ForkPoolWorker-45] INCREF '1092c8828'\n",
      "\n",
      "[DEBUG/SyncManager-2] got EOF -- exiting thread serving 'ForkPoolWorker-23'[DEBUG/ForkPoolWorker-46] INCREF '109298fc8'[INFO/ForkPoolWorker-45] child process calling self.run()\n",
      "\n",
      "\n",
      "[DEBUG/SyncManager-2] got EOF -- exiting thread serving 'ForkPoolWorker-21'\n",
      "[DEBUG/ForkPoolWorker-46] INCREF '1092c8828'[DEBUG/MainProcess] added worker\n",
      "[DEBUG/SyncManager-2] got EOF -- exiting thread serving 'ForkPoolWorker-25'\n",
      "\n",
      "[INFO/ForkPoolWorker-46] child process calling self.run()[DEBUG/ForkPoolWorker-47] INCREF '109298fc8'\n",
      "[DEBUG/SyncManager-2] got EOF -- exiting thread serving 'ForkPoolWorker-22'\n",
      "[DEBUG/MainProcess] added worker\n",
      "\n",
      "[DEBUG/SyncManager-2] got EOF -- exiting thread serving 'ForkPoolWorker-31'[DEBUG/ForkPoolWorker-47] INCREF '1092c8828'[DEBUG/ForkPoolWorker-48] INCREF '109298fc8'\n",
      "\n",
      "\n",
      "[DEBUG/SyncManager-2] got EOF -- exiting thread serving 'ForkPoolWorker-24'[INFO/ForkPoolWorker-47] child process calling self.run()\n",
      "\n",
      "[DEBUG/ForkPoolWorker-48] INCREF '1092c8828'[DEBUG/SyncManager-2] got EOF -- exiting thread serving 'ForkPoolWorker-33'\n",
      "\n",
      "[DEBUG/ForkPoolWorker-49] INCREF '109298fc8'[INFO/ForkPoolWorker-48] child process calling self.run()\n",
      "[DEBUG/SyncManager-2] got EOF -- exiting thread serving 'ForkPoolWorker-34'\n",
      "\n",
      "[DEBUG/ForkPoolWorker-49] INCREF '1092c8828'\n",
      "[DEBUG/ForkPoolWorker-50] INCREF '109298fc8'[INFO/ForkPoolWorker-49] child process calling self.run()\n",
      "\n",
      "[DEBUG/ForkPoolWorker-50] INCREF '1092c8828'\n",
      "[DEBUG/ForkPoolWorker-51] INCREF '109298fc8'[INFO/ForkPoolWorker-50] child process calling self.run()\n",
      "\n",
      "[DEBUG/ForkPoolWorker-51] INCREF '1092c8828'\n",
      "[DEBUG/ForkPoolWorker-52] INCREF '109298fc8'[INFO/ForkPoolWorker-51] child process calling self.run()\n",
      "\n",
      "[DEBUG/ForkPoolWorker-52] INCREF '1092c8828'\n",
      "[INFO/ForkPoolWorker-52] child process calling self.run()\n",
      "[DEBUG/MainProcess] cleaning up worker 13\n",
      "[DEBUG/MainProcess] cleaning up worker 12\n",
      "[DEBUG/MainProcess] cleaning up worker 11\n",
      "[DEBUG/MainProcess] cleaning up worker 10\n",
      "[DEBUG/MainProcess] cleaning up worker 9\n",
      "[DEBUG/MainProcess] cleaning up worker 8\n",
      "[DEBUG/MainProcess] cleaning up worker 7\n",
      "[DEBUG/MainProcess] cleaning up worker 6\n",
      "[DEBUG/MainProcess] cleaning up worker 5\n",
      "[DEBUG/MainProcess] cleaning up worker 4\n",
      "[DEBUG/MainProcess] cleaning up worker 3\n",
      "[DEBUG/MainProcess] cleaning up worker 2\n",
      "[DEBUG/MainProcess] cleaning up worker 1\n",
      "[DEBUG/MainProcess] cleaning up worker 0\n",
      "[DEBUG/MainProcess] added worker\n",
      "[DEBUG/ForkPoolWorker-53] INCREF '109298fc8'[DEBUG/MainProcess] added worker\n",
      "\n",
      "[DEBUG/ForkPoolWorker-53] INCREF '1092c8828'\n",
      "[DEBUG/MainProcess] added worker\n",
      "[INFO/ForkPoolWorker-53] child process calling self.run()[DEBUG/ForkPoolWorker-54] INCREF '109298fc8'\n",
      "\n",
      "[DEBUG/MainProcess] added worker\n",
      "[DEBUG/ForkPoolWorker-54] INCREF '1092c8828'[DEBUG/ForkPoolWorker-55] INCREF '109298fc8'\n",
      "[INFO/ForkPoolWorker-54] child process calling self.run()[DEBUG/MainProcess] added worker\n",
      "\n",
      "\n",
      "[DEBUG/ForkPoolWorker-55] INCREF '1092c8828'[DEBUG/MainProcess] added worker\n",
      "\n",
      "[DEBUG/ForkPoolWorker-56] INCREF '109298fc8'[INFO/ForkPoolWorker-55] child process calling self.run()\n",
      "[DEBUG/MainProcess] added worker\n",
      "\n",
      "[DEBUG/ForkPoolWorker-56] INCREF '1092c8828'\n",
      "[DEBUG/ForkPoolWorker-57] INCREF '109298fc8'[INFO/ForkPoolWorker-56] child process calling self.run()\n",
      "[DEBUG/MainProcess] added worker\n",
      "\n",
      "[DEBUG/ForkPoolWorker-57] INCREF '1092c8828'[DEBUG/ForkPoolWorker-58] INCREF '109298fc8'\n",
      "[INFO/ForkPoolWorker-57] child process calling self.run()\n",
      "[DEBUG/MainProcess] added worker\n",
      "\n",
      "[DEBUG/ForkPoolWorker-58] INCREF '1092c8828'\n",
      "[DEBUG/ForkPoolWorker-59] INCREF '109298fc8'\n",
      "[INFO/ForkPoolWorker-58] child process calling self.run()[DEBUG/MainProcess] added worker\n",
      "\n",
      "[DEBUG/ForkPoolWorker-59] INCREF '1092c8828'\n",
      "[DEBUG/ForkPoolWorker-60] INCREF '109298fc8'[DEBUG/MainProcess] added worker\n",
      "[INFO/ForkPoolWorker-59] child process calling self.run()\n",
      "\n",
      "[DEBUG/ForkPoolWorker-60] INCREF '1092c8828'\n",
      "[DEBUG/ForkPoolWorker-61] INCREF '109298fc8'[DEBUG/MainProcess] added worker\n",
      "[INFO/ForkPoolWorker-60] child process calling self.run()\n",
      "\n",
      "[DEBUG/ForkPoolWorker-61] INCREF '1092c8828'\n",
      "[DEBUG/ForkPoolWorker-62] INCREF '109298fc8'[DEBUG/MainProcess] added worker\n",
      "[INFO/ForkPoolWorker-61] child process calling self.run()\n",
      "\n",
      "[DEBUG/ForkPoolWorker-62] INCREF '1092c8828'\n",
      "[DEBUG/ForkPoolWorker-63] INCREF '109298fc8'[DEBUG/MainProcess] added worker\n",
      "[INFO/ForkPoolWorker-62] child process calling self.run()\n",
      "\n",
      "[DEBUG/ForkPoolWorker-63] INCREF '1092c8828'\n",
      "[DEBUG/ForkPoolWorker-64] INCREF '109298fc8'[INFO/ForkPoolWorker-63] child process calling self.run()\n",
      "\n",
      "[DEBUG/ForkPoolWorker-64] INCREF '1092c8828'\n",
      "[DEBUG/ForkPoolWorker-65] INCREF '109298fc8'[INFO/ForkPoolWorker-64] child process calling self.run()\n",
      "\n",
      "[DEBUG/ForkPoolWorker-65] INCREF '1092c8828'\n",
      "[INFO/ForkPoolWorker-65] child process calling self.run()[DEBUG/ForkPoolWorker-66] INCREF '109298fc8'\n",
      "\n",
      "[DEBUG/ForkPoolWorker-66] INCREF '1092c8828'\n",
      "[INFO/ForkPoolWorker-66] child process calling self.run()\n"
     ]
    }
   ],
   "source": [
    "# Genius setup\n",
    "token = \"EBufquOcw_ts4Y4V7yiddUNyUakTdqCpnMZhiI3XtAScWOntEom8Hj4T87gAV_cA\"\n",
    "genius = Genius(token, retries=2)\n",
    "\n",
    "genius.verbose = False\n",
    "genius.remove_section_headers = True\n",
    "genius.skip_non_songs = True\n",
    "genius.excluded_terms = [\"(Remix)\", \"(Live)\"]\n",
    "\n",
    "# Multiprocessing cores\n",
    "process_number = int(multiprocessing.cpu_count()) * 2\n",
    "multiprocessing.log_to_stderr().setLevel(logging.DEBUG)\n",
    "\n",
    "# Data management\n",
    "final_ = multiprocessing.Manager().list()\n",
    "\n",
    "# artist_queue = queue.Queue()\n",
    "# final_ = []\n",
    "checked_artists = set()\n",
    "\n",
    "# Pull out artists\n",
    "def get_artists(queue):\n",
    "    for x in range(1,5):\n",
    "        path = CSV_PATH % str(x)\n",
    "        with open(path, encoding=\"UTF-8\") as csvfile:\n",
    "            TopArtists = csv.reader(csvfile)\n",
    "            \n",
    "            # Skip header\n",
    "            next(TopArtists)\n",
    "            for row in TopArtists:\n",
    "                artist = row[0]\n",
    "                # Check if we should skip this artists since we already found the data\n",
    "                if artist not in checked_artists:\n",
    "                    queue.put(artist)\n",
    "                      \n",
    "\n",
    "\n",
    "# File management\n",
    "def write_to_csv(data, columns = [\"artist\", \"song\", \"data\"], file_name=\"song_data.csv\"):\n",
    "    \"\"\"\n",
    "    data: list of dictionaries {artist, song, data}\n",
    "    \"\"\"\n",
    "    \n",
    "    csv_path = os.path.join(os.path.curdir, 'data', file_name)\n",
    "    with open(csv_path, 'w') as csv_file: \n",
    "        # creating a csv dict writer object \n",
    "        writer = csv.DictWriter(csv_file, fieldnames = columns) \n",
    "        \n",
    "        # writing headers (field names) \n",
    "        writer.writeheader() \n",
    "        \n",
    "        # writing data rows \n",
    "        writer.writerows(data) \n",
    "        \n",
    "\n",
    "def read_csv(file_name=\"song_lyrics.csv\"):\n",
    "    global final_, checked_artists     \n",
    "    \n",
    "    csv_path = os.path.join(os.path.curdir, 'data', file_name)\n",
    "    artist_set = set()\n",
    "    \n",
    "    # opening the CSV file\n",
    "    try:\n",
    "        with open(csv_path, mode ='r') as file:   \n",
    "\n",
    "            # reading the CSV file\n",
    "            data = csv.DictReader(file)\n",
    "\n",
    "            for entry in data:\n",
    "                artist_set.add(entry[\"artist\"])\n",
    "                final_.append(entry)\n",
    "                \n",
    "    except FileNotFoundError:\n",
    "        pass\n",
    "    \n",
    "# Processing\n",
    "def clean_data(data):\n",
    "    cleaned_data = data.replace(\"\\n\", \" \").replace(\",\", \" \")\n",
    "    return cleaned_data\n",
    "\n",
    "def process_artist(artist):\n",
    "    artist_dict = artist.to_dict()\n",
    "    return \"\"\n",
    "\n",
    "def process_song(song):\n",
    "    lyrics = clean_data(song.lyrics)\n",
    "    return lyrics\n",
    "                           \n",
    "def build_entry(artist, song, data, columns = [\"artist\", \"song\", \"data\"]):\n",
    "    entry = [{\"artist\": artist, \"song\": song, \"data\": data}]\n",
    "    \n",
    "\n",
    "# Run genius search\n",
    "def search_genius(args):\n",
    "    artist_queue, num = args\n",
    "    print(\"[{num}] Starting\\n\".format(num=num), end='')\n",
    "    try:\n",
    "        while True:\n",
    "            artist = artist_queue.get()\n",
    "            if artist is None:\n",
    "                print(\"[{num}] Done\\n\".format(num=num), end='')\n",
    "                return\n",
    "            print(\"[{num}] Searching {artist}\\n\".format(num=num, artist=artist.strip()), end='')\n",
    "            \n",
    "            # Pull data for artist from genius\n",
    "            genius_artist = genius.search_artist(artist, per_page=50, get_full_info=False)\n",
    "            print(\"[{num}] Done\".format(num=num), end='')              \n",
    "            if genius_artist == None:\n",
    "                print(\"[{num}] {artist} not found\\n\".format(num=num, artist=artist.strip()), end='')\n",
    "                continue\n",
    "                           \n",
    "            artist_data =  process_artist(genius_artist)\n",
    "                           \n",
    "            print(\"[{num}] {artist} number of songs: {song_num}\\n\".format(num=num, artist=artist.strip(), song_num=len(genius_artist.songs)), end='')\n",
    "            \n",
    "            for song in genius_artist.songs:\n",
    "                song_data = process_song(song)\n",
    "                \n",
    "                # Add to final list\n",
    "                final_.append(build_entry(artist, song, song_data))\n",
    "    \n",
    "    except Exception as e:\n",
    "        print(\"[{num}] Something went wrong: {error}\\n\".format(num=num, error= e), end='')\n",
    "    \n",
    "    \n",
    "def run(multi_core=False):                  \n",
    "    \n",
    "    # Load in any previous data\n",
    "    print(\"Reading previous\")\n",
    "    read_csv()\n",
    "    \n",
    "    pool = None\n",
    "    try:  \n",
    "        if multi_core:\n",
    "            print(\"Multiprocessing with {process_number} processes\".format(process_number=process_number))\n",
    "            \n",
    "            artist_queue = multiprocessing.Manager().Queue()\n",
    "            get_artists(artist_queue)\n",
    "            \n",
    "            for x in range(process_number):\n",
    "                artist_queue.put(None)\n",
    "            \n",
    "            print(artist_queue.qsize())\n",
    "            # creating processes\n",
    "            pool = multiprocessing.Pool(process_number)\n",
    "            args = [(artist_queue, x) for x in range(process_number)]\n",
    "            pool.map(search_genius, args)\n",
    "            pool.join()\n",
    "            \n",
    "        else:\n",
    "            print(\"Running single core\")\n",
    "            artist_queue = queue.Queue()\n",
    "            get_artists(artist_queue)\n",
    "            rtist_queue.put(None)\n",
    "            print(artist_queue.qsize())\n",
    "            search_genius((1, artist_queue))\n",
    "\n",
    "    \n",
    "    except KeyboardInterrupt:\n",
    "        if pool:\n",
    "            pool.close()\n",
    "            pool.terminate()\n",
    "            pool.join()\n",
    "        print(\"KeyboardInterrupt: Writing results\")\n",
    "    \n",
    "    finally:\n",
    "        write_to_csv(list(final_))                       \n",
    "\n",
    "\n",
    "run(multi_core=True) \n",
    "\n",
    "\n"
   ]
  },
  {
   "cell_type": "code",
   "execution_count": null,
   "metadata": {},
   "outputs": [],
   "source": []
  }
 ],
 "metadata": {
  "colab": {
   "collapsed_sections": [],
   "name": "CS410 Project Bae Area",
   "provenance": []
  },
  "kernelspec": {
   "display_name": "Python 3",
   "language": "python",
   "name": "python3"
  },
  "language_info": {
   "codemirror_mode": {
    "name": "ipython",
    "version": 3
   },
   "file_extension": ".py",
   "mimetype": "text/x-python",
   "name": "python",
   "nbconvert_exporter": "python",
   "pygments_lexer": "ipython3",
   "version": "3.6.8"
  }
 },
 "nbformat": 4,
 "nbformat_minor": 1
}
