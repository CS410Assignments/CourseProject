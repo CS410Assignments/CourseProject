{
 "cells": [
  {
   "cell_type": "markdown",
   "metadata": {},
   "source": [
    "# Try KeyBERT for Keyword Extraction\n",
    "Use Python 3.6.14  \n",
    "Need to install [keybert](https://github.com/MaartenGr/KeyBERT):\n",
    "\n",
    "```\n",
    "pip install keybert\n",
    "```"
   ]
  },
  {
   "cell_type": "code",
   "execution_count": null,
   "metadata": {},
   "outputs": [],
   "source": [
    "from keybert import KeyBERT"
   ]
  },
  {
   "cell_type": "markdown",
   "metadata": {},
   "source": [
    "Import os and glob modules.  \n",
    "Indicating the docment route. "
   ]
  },
  {
   "cell_type": "code",
   "execution_count": null,
   "metadata": {},
   "outputs": [],
   "source": [
    "import os, glob\n",
    "doc_path = r'test data/*.vtt'\n",
    "script_path = glob.glob(doc_path)"
   ]
  },
  {
   "cell_type": "markdown",
   "metadata": {},
   "source": [
    "Read the transcript documents  \n",
    "Each row includes the timestamp and the content, which are divided by arrow `-->`  \n",
    "The contents before the first timestamp are context and are excluded from the documents being read."
   ]
  },
  {
   "cell_type": "code",
   "execution_count": null,
   "metadata": {},
   "outputs": [],
   "source": [
    "time_arrow = '-->'\n",
    "scrip_content = []\n",
    "doc = metapy.index.Document()\n",
    "with open(script_path[0]) as query_file:\n",
    "    start_flg = 0\n",
    "    for line in query_file:\n",
    "        if start_flg == 1 and time_arrow not in line:\n",
    "            scrip_content.append(line.strip())\n",
    "        elif start_flg == 0 and time_arrow in line:\n",
    "            start_flg = 1\n",
    "\n",
    "doc.content(' '.join(scrip_content))"
   ]
  },
  {
   "cell_type": "markdown",
   "metadata": {},
   "source": [
    "Use KeyBERT to extract the keywords."
   ]
  },
  {
   "cell_type": "code",
   "execution_count": null,
   "metadata": {},
   "outputs": [],
   "source": []
  }
 ],
 "metadata": {
  "interpreter": {
   "hash": "767d51c1340bd893661ea55ea3124f6de3c7a262a8b4abca0554b478b1e2ff90"
  },
  "kernelspec": {
   "display_name": "Python 2.7.16 64-bit",
   "name": "python3"
  },
  "language_info": {
   "name": "python",
   "version": "2.7.16"
  },
  "orig_nbformat": 4
 },
 "nbformat": 4,
 "nbformat_minor": 2
}
