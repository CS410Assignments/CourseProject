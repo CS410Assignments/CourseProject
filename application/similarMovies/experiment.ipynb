{
 "cells": [
  {
   "cell_type": "code",
   "execution_count": 1,
   "metadata": {},
   "outputs": [
    {
     "name": "stderr",
     "output_type": "stream",
     "text": [
      "[nltk_data] Downloading package stopwords to C:\\Users\\Johnson\n",
      "[nltk_data]     Lui\\AppData\\Roaming\\nltk_data...\n",
      "[nltk_data]   Package stopwords is already up-to-date!\n",
      "[nltk_data] Downloading package wordnet to C:\\Users\\Johnson\n",
      "[nltk_data]     Lui\\AppData\\Roaming\\nltk_data...\n",
      "[nltk_data]   Package wordnet is already up-to-date!\n",
      "[nltk_data] Downloading package punkt to C:\\Users\\Johnson\n",
      "[nltk_data]     Lui\\AppData\\Roaming\\nltk_data...\n",
      "[nltk_data]   Package punkt is already up-to-date!\n"
     ]
    }
   ],
   "source": [
    "import numpy as np\n",
    "import pickle\n",
    "import sys\n",
    "sys.path.append(\"..\")\n",
    "from dataAggregation.json_processor import json_unzip\n",
    "from utils.preprocess import preprocess\n"
   ]
  },
  {
   "cell_type": "code",
   "execution_count": 2,
   "metadata": {},
   "outputs": [],
   "source": [
    "# Load Compressed Dataset\n",
    "zipped_dataset = pickle.load(open(\"../../data/movies_review_json_zip.p\", \"rb\"))"
   ]
  },
  {
   "cell_type": "code",
   "execution_count": 3,
   "metadata": {},
   "outputs": [],
   "source": [
    "# Unzip the Dataset\n",
    "movie_data = json_unzip(zipped_dataset)"
   ]
  },
  {
   "cell_type": "code",
   "execution_count": 4,
   "metadata": {},
   "outputs": [],
   "source": [
    "# Configuration\n",
    "topK_movie = 5"
   ]
  },
  {
   "cell_type": "code",
   "execution_count": 5,
   "metadata": {},
   "outputs": [],
   "source": [
    "# Create Movie ID\n",
    "movie_id_list = list(movie_data)\n"
   ]
  },
  {
   "cell_type": "code",
   "execution_count": 6,
   "metadata": {},
   "outputs": [],
   "source": [
    "# Building Vocabulary\n",
    "preprocessed_corpus = []\n",
    "for m_id in movie_id_list:\n",
    "    # Put Movie Title and Plot as the summary of the movie\n",
    "    movie_name = movie_data[m_id][\"localized_title\"]\n",
    "    summary = movie_data[m_id][\"summary\"].split(\"\\nPlot: \")\n",
    "    summary = summary[1] if len(summary) > 1 else \"\"\n",
    "        \n",
    "    preprocessed_corpus.append(\n",
    "        preprocess(movie_name, is_sw_remove=False) + preprocess(summary)\n",
    "    )\n"
   ]
  },
  {
   "cell_type": "markdown",
   "metadata": {},
   "source": [
    "##### Evaluation"
   ]
  },
  {
   "cell_type": "code",
   "execution_count": 8,
   "metadata": {},
   "outputs": [],
   "source": [
    "from utils.evaluator import MetricsEvaluator"
   ]
  },
  {
   "cell_type": "code",
   "execution_count": 9,
   "metadata": {},
   "outputs": [],
   "source": [
    "# Create Metrics Evaluator\n",
    "evaluator = MetricsEvaluator(movie_data)"
   ]
  },
  {
   "cell_type": "markdown",
   "metadata": {},
   "source": [
    "##### Random walk"
   ]
  },
  {
   "cell_type": "code",
   "execution_count": 6,
   "metadata": {},
   "outputs": [],
   "source": [
    "from similarity.random import RandomCalculator\n",
    "\n",
    "random_calculator = RandomCalculator(movie_data, topK_movie)\n",
    "similar_movies_result_random = random_calculator.generateSimilarMovies()\n"
   ]
  },
  {
   "cell_type": "code",
   "execution_count": 10,
   "metadata": {},
   "outputs": [
    {
     "data": {
      "text/plain": [
       "1.6449281091741155"
      ]
     },
     "execution_count": 10,
     "metadata": {},
     "output_type": "execute_result"
    }
   ],
   "source": [
    "np.mean(evaluator.evaluate(similar_movies_result_random))\n"
   ]
  },
  {
   "cell_type": "markdown",
   "metadata": {},
   "source": [
    "##### Jaccard Similarity"
   ]
  },
  {
   "cell_type": "code",
   "execution_count": 9,
   "metadata": {},
   "outputs": [],
   "source": [
    "from similarity.jaccard import JaccardCalculator\n",
    "\n",
    "# Create Jaccard Similarity Calculator\n",
    "jaccard_calculator = JaccardCalculator(preprocessed_corpus)\n",
    "# Build Simiarity Matrix\n",
    "jaccard_calculator.buildJaccardSimilarityMatrix()\n"
   ]
  },
  {
   "cell_type": "code",
   "execution_count": 10,
   "metadata": {},
   "outputs": [],
   "source": [
    "# Calculate Similar Movie Result\n",
    "similar_movies_result = {}\n",
    "for i in range(len(preprocessed_corpus)):\n",
    "    similar_movies = (-jaccard_calculator.sim_matrix[i]).argsort()[:topK_movie + 1]\n",
    "    similar_movies = [movie_id_list[j] for j in similar_movies if j != i][:topK_movie]\n",
    "\n",
    "    assert movie_id_list[i] not in similar_movies, \"Movie ID in Similar Movies List\"\n",
    "\n",
    "    similar_movies_result[movie_id_list[i]] = similar_movies\n",
    "\n"
   ]
  },
  {
   "cell_type": "code",
   "execution_count": 13,
   "metadata": {},
   "outputs": [
    {
     "data": {
      "text/plain": [
       "2.338252519004315"
      ]
     },
     "execution_count": 13,
     "metadata": {},
     "output_type": "execute_result"
    }
   ],
   "source": [
    "np.mean(evaluator.evaluate(similar_movies_result))"
   ]
  },
  {
   "cell_type": "code",
   "execution_count": null,
   "metadata": {},
   "outputs": [],
   "source": []
  }
 ],
 "metadata": {
  "kernelspec": {
   "display_name": "Python 3.8.5 ('base')",
   "language": "python",
   "name": "python3"
  },
  "language_info": {
   "codemirror_mode": {
    "name": "ipython",
    "version": 3
   },
   "file_extension": ".py",
   "mimetype": "text/x-python",
   "name": "python",
   "nbconvert_exporter": "python",
   "pygments_lexer": "ipython3",
   "version": "3.8.5"
  },
  "orig_nbformat": 4,
  "vscode": {
   "interpreter": {
    "hash": "b8c0bb826b0a6d814e23aa5e5c30ff79c87019379740d931cfcd76fca69e3581"
   }
  }
 },
 "nbformat": 4,
 "nbformat_minor": 2
}
