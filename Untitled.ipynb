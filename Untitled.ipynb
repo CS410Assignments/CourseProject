{
 "cells": [
  {
   "cell_type": "code",
   "execution_count": 1,
   "metadata": {},
   "outputs": [],
   "source": [
    "import json\n",
    "import pandas as pd\n",
    "import matplotlib.pyplot as plt\n",
    "import numpy as np\n",
    "import pyLDAvis\n",
    "import pyLDAvis.sklearn\n",
    "\n",
    "from sklearn.feature_extraction.text import CountVectorizer, TfidfVectorizer\n",
    "from sklearn.decomposition import LatentDirichletAllocation\n",
    "from sklearn.model_selection import GridSearchCV\n",
    "\n",
    "from topic_model_arxiv import TopicModeler"
   ]
  },
  {
   "cell_type": "markdown",
   "metadata": {},
   "source": [
    "# Set up analysis"
   ]
  },
  {
   "cell_type": "code",
   "execution_count": 2,
   "metadata": {},
   "outputs": [
    {
     "name": "stdout",
     "output_type": "stream",
     "text": [
      "(1328, 4536)\n"
     ]
    }
   ],
   "source": [
    "mod = TopicModeler('output.json')\n",
    "mod.build_tfidf_matrix()\n",
    "mod.get_matrix_shape()"
   ]
  },
  {
   "cell_type": "markdown",
   "metadata": {},
   "source": [
    "# Perform grid search"
   ]
  },
  {
   "cell_type": "code",
   "execution_count": 3,
   "metadata": {},
   "outputs": [],
   "source": [
    "n_topics = [5, 10]\n",
    "\n",
    "mod.perform_grid_search(n_topics=n_topics)"
   ]
  },
  {
   "cell_type": "markdown",
   "metadata": {},
   "source": [
    "## Grid Search Results"
   ]
  },
  {
   "cell_type": "code",
   "execution_count": null,
   "metadata": {},
   "outputs": [],
   "source": [
    "mod.plot_grid_search_results(n_topics=n_topics)"
   ]
  },
  {
   "cell_type": "markdown",
   "metadata": {},
   "source": [
    "# Explore selected model"
   ]
  },
  {
   "cell_type": "code",
   "execution_count": null,
   "metadata": {},
   "outputs": [],
   "source": [
    "mod.get_matrix_shape()"
   ]
  },
  {
   "cell_type": "code",
   "execution_count": 4,
   "metadata": {},
   "outputs": [
    {
     "name": "stdout",
     "output_type": "stream",
     "text": [
      "\n",
      "\n",
      "Printing grid search results...\n",
      "Best Model's Params:  {'learning_decay': 0.9, 'n_components': 5}\n",
      "Best Log Likelihood Score:  -13465.460161811909\n",
      "Model Perplexity:  8627.72239572414\n",
      "\n",
      "\n",
      "Printing detailed grid search results...\n",
      "[[0.8466399  0.03831372 0.03832356 0.03831258 0.03841024]\n",
      " [0.74894424 0.03867419 0.13242373 0.03863228 0.04132557]\n",
      " [0.81566826 0.04505831 0.0480494  0.0450672  0.04615683]\n",
      " ...\n",
      " [0.0828108  0.04991409 0.04993727 0.04998228 0.76735556]\n",
      " [0.69353055 0.03720964 0.03713746 0.1948515  0.03727085]\n",
      " [0.35179831 0.04367295 0.04356545 0.51601838 0.04494491]]\n",
      "5\n",
      "1328\n",
      "      Topic0  Topic1  Topic2  Topic3  Topic4  dominant_topic\n",
      "Doc0    0.85    0.04    0.04    0.04    0.04               0\n",
      "Doc1    0.75    0.04    0.13    0.04    0.04               0\n",
      "Doc2    0.82    0.05    0.05    0.05    0.05               0\n",
      "Doc3    0.67    0.04    0.04    0.04    0.20               0\n",
      "Doc4    0.84    0.04    0.04    0.04    0.04               0\n",
      "   Topic Num  Num Documents\n",
      "0          0           1016\n",
      "1          4            247\n",
      "2          2             40\n",
      "3          3             13\n",
      "4          1             12\n"
     ]
    }
   ],
   "source": [
    "mod.set_model_to_optimum()\n",
    "\n",
    "mod.print_grid_search_results()\n",
    "mod.print_selected_model_details()"
   ]
  },
  {
   "cell_type": "code",
   "execution_count": 5,
   "metadata": {},
   "outputs": [
    {
     "name": "stdout",
     "output_type": "stream",
     "text": [
      "             Word 0        Word 1        Word 2       Word 3     Word 4  \\\n",
      "Topic 0  convection  reconnection  metamaterial        delta    sensing   \n",
      "Topic 1     network         model        system        datum  algorithm   \n",
      "Topic 2    semantic         logic   cooperation      barrier   calculus   \n",
      "Topic 3   colouring        colour      citation  disjunction    stadium   \n",
      "Topic 4       field       physics        energy      network      state   \n",
      "\n",
      "              Word 5     Word 6     Word 7        Word 8     Word 9  \\\n",
      "Topic 0      vehicle       knot  criticism      pairwise    swimmer   \n",
      "Topic 1         game      paper    problem          time     method   \n",
      "Topic 2  dissipation  estimator  predictor  completeness       mesh   \n",
      "Topic 3      terrain         co   mutation         blood  cosmology   \n",
      "Topic 4     equation       time       wave        system     theory   \n",
      "\n",
      "               Word 10    Word 11    Word 12       Word 13         Word 14  \n",
      "Topic 0  multisequence     rhythm  alignment      language  susceptibility  \n",
      "Topic 1    information       code      graph      analysis            data  \n",
      "Topic 2           resp       city   fragment          port            dweb  \n",
      "Topic 3           blog  indicator       item  microstadium      popularity  \n",
      "Topic 4          model    channel     result        method        electron  \n"
     ]
    }
   ],
   "source": [
    "mod.print_top_keywords_in_topic()"
   ]
  },
  {
   "cell_type": "markdown",
   "metadata": {},
   "source": [
    "# LDA visualization"
   ]
  },
  {
   "cell_type": "code",
   "execution_count": 5,
   "metadata": {},
   "outputs": [
    {
     "name": "stderr",
     "output_type": "stream",
     "text": [
      "/Users/mdinauta/v-envs/tip/lib/python3.8/site-packages/sklearn/utils/deprecation.py:87: FutureWarning: Function get_feature_names is deprecated; get_feature_names is deprecated in 1.0 and will be removed in 1.2. Please use get_feature_names_out instead.\n",
      "  warnings.warn(msg, category=FutureWarning)\n"
     ]
    },
    {
     "ename": "AssertionError",
     "evalue": "Term frequencies and vocabulary are of different sizes, 1 != 4536.",
     "output_type": "error",
     "traceback": [
      "\u001b[0;31m---------------------------------------------------------------------------\u001b[0m",
      "\u001b[0;31mAssertionError\u001b[0m                            Traceback (most recent call last)",
      "\u001b[0;32m/var/folders/ck/65gznv2n3978846h9gc70pbc0000gp/T/ipykernel_43233/3380972032.py\u001b[0m in \u001b[0;36m<module>\u001b[0;34m\u001b[0m\n\u001b[0;32m----> 1\u001b[0;31m panel = pyLDAvis.sklearn.prepare(\n\u001b[0m\u001b[1;32m      2\u001b[0m     \u001b[0mmod\u001b[0m\u001b[0;34m.\u001b[0m\u001b[0mmodel\u001b[0m\u001b[0;34m,\u001b[0m\u001b[0;34m\u001b[0m\u001b[0;34m\u001b[0m\u001b[0m\n\u001b[1;32m      3\u001b[0m     \u001b[0mnp\u001b[0m\u001b[0;34m.\u001b[0m\u001b[0mmatrix\u001b[0m\u001b[0;34m(\u001b[0m\u001b[0mmod\u001b[0m\u001b[0;34m.\u001b[0m\u001b[0mX\u001b[0m\u001b[0;34m)\u001b[0m\u001b[0;34m,\u001b[0m\u001b[0;34m\u001b[0m\u001b[0;34m\u001b[0m\u001b[0m\n\u001b[1;32m      4\u001b[0m     \u001b[0mmod\u001b[0m\u001b[0;34m.\u001b[0m\u001b[0mvectorizer\u001b[0m\u001b[0;34m,\u001b[0m\u001b[0;34m\u001b[0m\u001b[0;34m\u001b[0m\u001b[0m\n\u001b[1;32m      5\u001b[0m     mds='tsne')\n",
      "\u001b[0;32m~/v-envs/tip/lib/python3.8/site-packages/pyLDAvis/sklearn.py\u001b[0m in \u001b[0;36mprepare\u001b[0;34m(lda_model, dtm, vectorizer, **kwargs)\u001b[0m\n\u001b[1;32m     92\u001b[0m     \u001b[0mSee\u001b[0m\u001b[0;31m \u001b[0m\u001b[0;31m`\u001b[0m\u001b[0mpyLDAvis\u001b[0m\u001b[0;34m.\u001b[0m\u001b[0mprepare\u001b[0m\u001b[0;31m`\u001b[0m \u001b[0;32mfor\u001b[0m \u001b[0;34m**\u001b[0m\u001b[0mkwargs\u001b[0m\u001b[0;34m.\u001b[0m\u001b[0;34m\u001b[0m\u001b[0;34m\u001b[0m\u001b[0m\n\u001b[1;32m     93\u001b[0m     \"\"\"\n\u001b[0;32m---> 94\u001b[0;31m     \u001b[0mopts\u001b[0m \u001b[0;34m=\u001b[0m \u001b[0mfp\u001b[0m\u001b[0;34m.\u001b[0m\u001b[0mmerge\u001b[0m\u001b[0;34m(\u001b[0m\u001b[0m_extract_data\u001b[0m\u001b[0;34m(\u001b[0m\u001b[0mlda_model\u001b[0m\u001b[0;34m,\u001b[0m \u001b[0mdtm\u001b[0m\u001b[0;34m,\u001b[0m \u001b[0mvectorizer\u001b[0m\u001b[0;34m)\u001b[0m\u001b[0;34m,\u001b[0m \u001b[0mkwargs\u001b[0m\u001b[0;34m)\u001b[0m\u001b[0;34m\u001b[0m\u001b[0;34m\u001b[0m\u001b[0m\n\u001b[0m\u001b[1;32m     95\u001b[0m     \u001b[0;32mreturn\u001b[0m \u001b[0mpyLDAvis\u001b[0m\u001b[0;34m.\u001b[0m\u001b[0mprepare\u001b[0m\u001b[0;34m(\u001b[0m\u001b[0;34m**\u001b[0m\u001b[0mopts\u001b[0m\u001b[0;34m)\u001b[0m\u001b[0;34m\u001b[0m\u001b[0;34m\u001b[0m\u001b[0m\n",
      "\u001b[0;32m~/v-envs/tip/lib/python3.8/site-packages/pyLDAvis/sklearn.py\u001b[0m in \u001b[0;36m_extract_data\u001b[0;34m(lda_model, dtm, vectorizer)\u001b[0m\n\u001b[1;32m     43\u001b[0m                'have different number of columns, {} != {}.')\n\u001b[1;32m     44\u001b[0m \u001b[0;34m\u001b[0m\u001b[0m\n\u001b[0;32m---> 45\u001b[0;31m     \u001b[0;32massert\u001b[0m \u001b[0mterm_freqs\u001b[0m\u001b[0;34m.\u001b[0m\u001b[0mshape\u001b[0m\u001b[0;34m[\u001b[0m\u001b[0;36m0\u001b[0m\u001b[0;34m]\u001b[0m \u001b[0;34m==\u001b[0m \u001b[0mlen\u001b[0m\u001b[0;34m(\u001b[0m\u001b[0mvocab\u001b[0m\u001b[0;34m)\u001b[0m\u001b[0;34m,\u001b[0m\u001b[0;31m \u001b[0m\u001b[0;31m\\\u001b[0m\u001b[0;34m\u001b[0m\u001b[0;34m\u001b[0m\u001b[0m\n\u001b[0m\u001b[1;32m     46\u001b[0m         ('Term frequencies and vocabulary are of different sizes, {} != {}.'\n\u001b[1;32m     47\u001b[0m          .format(term_freqs.shape[0], len(vocab)))\n",
      "\u001b[0;31mAssertionError\u001b[0m: Term frequencies and vocabulary are of different sizes, 1 != 4536."
     ]
    }
   ],
   "source": [
    "panel = pyLDAvis.sklearn.prepare(\n",
    "    mod.model, \n",
    "    np.matrix(mod.X), \n",
    "    mod.vectorizer, \n",
    "    mds='tsne')\n",
    "\n",
    "panel"
   ]
  }
 ],
 "metadata": {
  "kernelspec": {
   "display_name": "tip",
   "language": "python",
   "name": "tip"
  },
  "language_info": {
   "codemirror_mode": {
    "name": "ipython",
    "version": 3
   },
   "file_extension": ".py",
   "mimetype": "text/x-python",
   "name": "python",
   "nbconvert_exporter": "python",
   "pygments_lexer": "ipython3",
   "version": "3.8.5"
  }
 },
 "nbformat": 4,
 "nbformat_minor": 4
}
