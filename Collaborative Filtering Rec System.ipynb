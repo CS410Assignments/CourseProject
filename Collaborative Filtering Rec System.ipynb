{
 "cells": [
  {
   "cell_type": "markdown",
   "metadata": {},
   "source": [
    "## Importing the data first"
   ]
  },
  {
   "cell_type": "code",
   "execution_count": 86,
   "metadata": {},
   "outputs": [],
   "source": [
    "import gzip\n",
    "import json\n",
    "import pandas as pd\n",
    "\n",
    "filename=\"goodreads_reviews_poetry_cleaned.json.gz\"\n",
    "\n",
    "with gzip.GzipFile(filename, 'r',) as fin:\n",
    "    data=[]\n",
    "    for line in fin:\n",
    "        info=json.loads(line.decode('utf-8'))\n",
    "        new_info={}\n",
    "        new_info['user_id']=info['user_id']\n",
    "        new_info['book_id']=info['book_id']\n",
    "        new_info['rating']=info['rating']\n",
    "        new_info['date']=info['date']\n",
    "        data.append(new_info)"
   ]
  },
  {
   "cell_type": "code",
   "execution_count": 77,
   "metadata": {},
   "outputs": [
    {
     "data": {
      "text/plain": [
       "{'user_id': '8842281e1d1347389f2ab93d60773d4d',\n",
       " 'book_id': '29893493',\n",
       " 'rating': 5,\n",
       " 'date': 'Sun Mar 12 23:33:51 -0700 2017'}"
      ]
     },
     "execution_count": 77,
     "metadata": {},
     "output_type": "execute_result"
    }
   ],
   "source": [
    "data[0]"
   ]
  },
  {
   "cell_type": "code",
   "execution_count": 3,
   "metadata": {},
   "outputs": [
    {
     "data": {
      "text/plain": [
       "'Sun Mar 12 23:33:51 -0700 2017'"
      ]
     },
     "execution_count": 3,
     "metadata": {},
     "output_type": "execute_result"
    }
   ],
   "source": [
    "data[0]['date']"
   ]
  },
  {
   "cell_type": "markdown",
   "metadata": {},
   "source": [
    "## Build two dictionaries that map from user_id/book_id to new integer values\n",
    "\n",
    "user_map = {user_id to user_index}\n",
    "\n",
    "book_map = {book_id to book_index}\n",
    " "
   ]
  },
  {
   "cell_type": "markdown",
   "metadata": {},
   "source": [
    "## Exploration\n",
    "\n",
    "Build histogram that shows how many users have between 0-5 ratings, 6-10 ratings, etc"
   ]
  },
  {
   "cell_type": "code",
   "execution_count": 87,
   "metadata": {},
   "outputs": [],
   "source": [
    "import matplotlib.pyplot as plt\n",
    "import numpy as np\n",
    "\n",
    "user_to_num_ratings={}\n",
    "for rating in data: \n",
    "    if rating['user_id'] not in user_to_num_ratings:\n",
    "        user_to_num_ratings[rating['user_id']]=1\n",
    "    else:\n",
    "        user_to_num_ratings[rating['user_id']]+=1"
   ]
  },
  {
   "cell_type": "code",
   "execution_count": 88,
   "metadata": {},
   "outputs": [],
   "source": [
    "counts=[]\n",
    "for user in user_to_num_ratings:\n",
    "    counts.append(user_to_num_ratings[user])\n",
    "counts=np.array(counts)"
   ]
  },
  {
   "cell_type": "code",
   "execution_count": 89,
   "metadata": {},
   "outputs": [
    {
     "data": {
      "image/png": "[encoded data removed]",
      "text/plain": [
       "<Figure size 432x288 with 1 Axes>"
      ]
     },
     "metadata": {
      "needs_background": "light"
     },
     "output_type": "display_data"
    }
   ],
   "source": [
    "n, bins, patches = plt.hist(x=counts, bins=50, range=(0,50), color='#0504aa')"
   ]
  },
  {
   "cell_type": "code",
   "execution_count": 95,
   "metadata": {},
   "outputs": [
    {
     "data": {
      "image/png": "[encoded data removed]",
      "text/plain": [
       "<Figure size 432x288 with 1 Axes>"
      ]
     },
     "metadata": {
      "needs_background": "light"
     },
     "output_type": "display_data"
    }
   ],
   "source": [
    "n, bins, patches = plt.hist(x=counts, bins=[i for i in range(2,30)], range=(2,30), color='#0504aa')"
   ]
  },
  {
   "cell_type": "code",
   "execution_count": 91,
   "metadata": {},
   "outputs": [
    {
     "data": {
      "text/plain": [
       "1062"
      ]
     },
     "execution_count": 91,
     "metadata": {},
     "output_type": "execute_result"
    }
   ],
   "source": [
    "max(counts)"
   ]
  },
  {
   "cell_type": "code",
   "execution_count": 105,
   "metadata": {},
   "outputs": [
    {
     "data": {
      "image/png": "[encoded data removed]",
      "text/plain": [
       "<Figure size 432x288 with 1 Axes>"
      ]
     },
     "metadata": {
      "needs_background": "light"
     },
     "output_type": "display_data"
    }
   ],
   "source": [
    "n, bins, patches = plt.hist(x=counts, bins=[1,2,3,6,10,30,1062], color='#0504aa')"
   ]
  },
  {
   "cell_type": "code",
   "execution_count": 108,
   "metadata": {},
   "outputs": [
    {
     "name": "stdout",
     "output_type": "stream",
     "text": [
      "[22173.  5984.  5012.  1701.  1398.   368.]\n",
      "[0.60522437 0.16333661 0.13680533 0.04642974 0.03815919 0.01004476]\n"
     ]
    }
   ],
   "source": [
    "print(n)\n",
    "print(n/sum(n))"
   ]
  },
  {
   "cell_type": "code",
   "execution_count": 109,
   "metadata": {},
   "outputs": [
    {
     "data": {
      "image/png": "[encoded data removed]",
      "text/plain": [
       "<Figure size 432x288 with 1 Axes>"
      ]
     },
     "metadata": {},
     "output_type": "display_data"
    }
   ],
   "source": [
    "labels=[\"1\",\"2\",\"3-5\",\"6-9\",\"10-29\",\"30+\"]\n",
    "sizes=n/sum(n)\n",
    "fig1, ax1 = plt.subplots()\n",
    "ax1.pie(sizes, explode=[0.1 for i in range(6)],labels=labels, autopct='%1.1f%%')\n",
    "ax1.axis('equal') \n",
    "plt.show()\n"
   ]
  },
  {
   "cell_type": "code",
   "execution_count": 110,
   "metadata": {},
   "outputs": [
    {
     "data": {
      "text/plain": [
       "<BarContainer object of 6 artists>"
      ]
     },
     "execution_count": 110,
     "metadata": {},
     "output_type": "execute_result"
    },
    {
     "data": {
      "image/png": "[encoded data removed]",
      "text/plain": [
       "<Figure size 432x288 with 1 Axes>"
      ]
     },
     "metadata": {
      "needs_background": "light"
     },
     "output_type": "display_data"
    }
   ],
   "source": [
    "plt.bar(labels,n)"
   ]
  },
  {
   "cell_type": "markdown",
   "metadata": {},
   "source": [
    "## Separate the training and testing sets\n",
    "\n",
    "For users that have at least 5 ratings, testing dataset is most recent floor(0.2 x number of ratings) ratings\n",
    "\n",
    "For users that have 2-4 ratings, use most recent rating as testing. Also include a flag that notes if user has at least 5 ratings or not.\n",
    "\n",
    "For training, make sure format is dictionary of \"book_ids\": list,\"user_ids\": list,\"ratings\": list\n",
    "\n",
    "For testing, have dictionary of category to user (like \"0-5 ratings\":list of lists of userid,bookid,rating, etc)"
   ]
  },
  {
   "cell_type": "code",
   "execution_count": 111,
   "metadata": {},
   "outputs": [
    {
     "name": "stdout",
     "output_type": "stream",
     "text": [
      "3ca7375dba942a760e53b726c472a7dd [(20120615, '402128', 5)]\n",
      "0ef32090550901ead25cb0ea21c4d36b [(20140414, '92270', 5)]\n",
      "d37b46b2190ed7c518259f29b47a9b36 [(20170930, '253264', 5)]\n",
      "f4c6fe33ef61c38f7f4aeb5224c259a5 [(20130507, '13105527', 5)]\n",
      "4672eb229c808b792b8ea95f01f19784 [(20141011, '1420', 1), (20160113, '1381', 3)]\n",
      "b54c83f02c748fe75ed309e1e12eace2 [(20121014, '15787122', 3)]\n",
      "f88032f4ad97b46654fe59ce3387cf5d [(20151017, '23668465', 4), (20140323, '18600808', 0), (20141230, '18745066', 4), (20131217, '1215884', 3), (20160217, '18141482', 5), (20130702, '3049', 2)]\n",
      "f2f95653b98e1a4a68c3beab1a7f8f5e [(20160330, '704880', 5)]\n",
      "7e4945a6266566e39e3f251fff0fdde1 [(20140912, '128436', 5)]\n",
      "6665fe2d574221577f8a5483a6f17844 [(20160225, '11958313', 5)]\n"
     ]
    }
   ],
   "source": [
    "# Build dictionary of user -> [(date,bookid,rating),\n",
    "def interpret_date_string(date_string):\n",
    "    split=date_string.split(' ')\n",
    "    output_str=split[-1]\n",
    "    month_to_num={\"Jan\":\"01\",\"Feb\":\"02\",\"Mar\":\"03\",\"Apr\":\"04\",\"May\":\"05\",\"Jun\":\"06\",\"Jul\":\"07\",\n",
    "                 \"Aug\":\"08\",\"Sep\":\"09\",\"Oct\":\"10\",\"Nov\":\"11\",\"Dec\":\"12\"}\n",
    "    output_str=output_str+month_to_num[split[1]]+split[2]\n",
    "    return int(output_str)\n",
    "    \n",
    "user_info={}\n",
    "for rating in data:\n",
    "    if rating['user_id'] not in user_info:\n",
    "        user_info[rating['user_id']]=[]\n",
    "    user_info[rating['user_id']].append((interpret_date_string(rating['date']),rating['book_id'],rating['rating']))\n",
    "# Dictionary from user id to list of lists of date,bookid,rating\n",
    "\n",
    "c=0\n",
    "for user in user_info:\n",
    "    print(user,user_info[user])\n",
    "    c+=1\n",
    "    if c==10:\n",
    "        break"
   ]
  },
  {
   "cell_type": "code",
   "execution_count": 114,
   "metadata": {},
   "outputs": [],
   "source": [
    "# Categories of number of ratings: \"2\",\"3-5\",\"6-9\",\"10-29\",\"30+\"\n",
    "training={\"book_ids\":[],\"user_ids\":[],\"ratings\":[]}\n",
    "testing={\"2\":[],\"3-5\":[],\"6-9\":[],\"10-29\":[],\"30+\":[]}\n",
    "for user in user_info:\n",
    "    l=len(user_info[user])\n",
    "    user_info[user].sort()\n",
    "    if l==2:\n",
    "        training[\"book_ids\"].append(user_info[user][0][1])\n",
    "        training[\"user_ids\"].append(user)\n",
    "        training[\"ratings\"].append(user_info[user][0][2])\n",
    "        testing[\"2\"].append([user,user_info[user][1][1],user_info[user][1][2]])\n",
    "    elif 3<=l<=5:\n",
    "        for i in range(l-1):\n",
    "            training[\"book_ids\"].append(user_info[user][i][1])\n",
    "            training[\"user_ids\"].append(user)\n",
    "            training[\"ratings\"].append(user_info[user][i][2])\n",
    "        testing[\"3-5\"].append([user,user_info[user][l-1][1],user_info[user][l-1][2]])\n",
    "    elif l>5:\n",
    "        cutoff=int(0.8*l)\n",
    "        for i in range(cutoff):\n",
    "            training[\"book_ids\"].append(user_info[user][i][1])\n",
    "            training[\"user_ids\"].append(user)\n",
    "            training[\"ratings\"].append(user_info[user][i][2])    \n",
    "        if l<=9:\n",
    "            for i in range(cutoff,l):\n",
    "                testing[\"6-9\"].append([user,user_info[user][i][1],user_info[user][i][2]])\n",
    "        elif l<=29:\n",
    "            for i in range(cutoff,l):\n",
    "                testing[\"10-29\"].append([user,user_info[user][i][1],user_info[user][i][2]])\n",
    "        else:\n",
    "            for i in range(cutoff,l):\n",
    "                testing[\"30+\"].append([user,user_info[user][i][1],user_info[user][i][2]])\n"
   ]
  },
  {
   "cell_type": "code",
   "execution_count": null,
   "metadata": {},
   "outputs": [],
   "source": []
  },
  {
   "cell_type": "code",
   "execution_count": 115,
   "metadata": {},
   "outputs": [
    {
     "name": "stdout",
     "output_type": "stream",
     "text": [
      "Computing the cosine similarity matrix...\n",
      "Done computing similarity matrix.\n"
     ]
    },
    {
     "data": {
      "text/plain": [
       "<surprise.prediction_algorithms.knns.KNNWithMeans at 0x260bde9f308>"
      ]
     },
     "execution_count": 115,
     "metadata": {},
     "output_type": "execute_result"
    }
   ],
   "source": [
    "import pandas as pd\n",
    "from surprise import Dataset\n",
    "from surprise import Reader\n",
    "from surprise import KNNWithMeans\n",
    "\n",
    "df = pd.DataFrame(training)\n",
    "reader = Reader(rating_scale=(1, 5))\n",
    "\n",
    "# Loads Pandas dataframe\n",
    "data = Dataset.load_from_df(df[[\"user_ids\", \"book_ids\", \"ratings\"]], reader)\n",
    "\n",
    "sim_options = {\"name\": \"cosine\",\"user_based\": True}\n",
    "algo = KNNWithMeans(sim_options=sim_options)\n",
    "\n",
    "trainingSet = data.build_full_trainset()\n",
    "\n",
    "algo.fit(trainingSet)\n"
   ]
  },
  {
   "cell_type": "code",
   "execution_count": 116,
   "metadata": {},
   "outputs": [
    {
     "data": {
      "text/plain": [
       "3.8925622439331864"
      ]
     },
     "execution_count": 116,
     "metadata": {},
     "output_type": "execute_result"
    }
   ],
   "source": [
    "prediction = algo.predict('f88032f4ad97b46654fe59ce3387cf5d', '18141482')\n",
    "prediction.est"
   ]
  },
  {
   "cell_type": "code",
   "execution_count": 126,
   "metadata": {},
   "outputs": [
    {
     "name": "stdout",
     "output_type": "stream",
     "text": [
      "Category of users who rated 2 poetry books.\n",
      "Precision: 0.7597066436583262\n",
      "Recall: 0.8221288515406162\n",
      "F1 score: 0.7896860986547085\n",
      "\n",
      "True positives: 3522\n",
      "True negatives: 586\n",
      "False positives: 1114\n",
      "False negatives: 762\n",
      "------------------------------------------------\n",
      "Category of users who rated 3-5 poetry books.\n",
      "Precision: 0.7550761421319797\n",
      "Recall: 0.8399209486166008\n",
      "F1 score: 0.7952419139267576\n",
      "\n",
      "True positives: 2975\n",
      "True negatives: 505\n",
      "False positives: 965\n",
      "False negatives: 567\n",
      "------------------------------------------------\n",
      "Category of users who rated 6-9 poetry books.\n",
      "Precision: 0.7502807937102209\n",
      "Recall: 0.8459265512874631\n",
      "F1 score: 0.7952380952380952\n",
      "\n",
      "True positives: 2004\n",
      "True negatives: 366\n",
      "False positives: 667\n",
      "False negatives: 365\n",
      "------------------------------------------------\n",
      "Category of users who rated 10-29 poetry books.\n",
      "Precision: 0.7719115734720416\n",
      "Recall: 0.8558246828143022\n",
      "F1 score: 0.8117051825516204\n",
      "\n",
      "True positives: 2968\n",
      "True negatives: 454\n",
      "False positives: 877\n",
      "False negatives: 500\n",
      "------------------------------------------------\n",
      "Category of users who rated 30+ poetry books.\n",
      "Precision: 0.7678258694020516\n",
      "Recall: 0.8584615384615385\n",
      "F1 score: 0.8106180665610143\n",
      "\n",
      "True positives: 3069\n",
      "True negatives: 415\n",
      "False positives: 928\n",
      "False negatives: 506\n",
      "------------------------------------------------\n"
     ]
    }
   ],
   "source": [
    "for category in [\"2\",\"3-5\",\"6-9\",\"10-29\",\"30+\"]:\n",
    "    tp,tn,fp,fn=0,0,0,0 # True positive, true negative, false positive, false negative\n",
    "    for userid,bookid,bookrating in testing[category]: # list of lists of userid,bookid,rating\n",
    "        prediction = algo.predict(userid,bookid)\n",
    "        if prediction.est>=3.5:\n",
    "            if bookrating>3.5:\n",
    "                tp+=1\n",
    "            else:\n",
    "                fp+=1\n",
    "        else:\n",
    "            if bookrating>3.5:\n",
    "                fn+=1\n",
    "            else:\n",
    "                tn+=1\n",
    "    print(\"Category of users who rated \"+category+\" poetry books.\")\n",
    "    if tp+fp!=0:\n",
    "        print(\"Precision:\",str(tp/(tp+fp)))\n",
    "    if tp+fn!=0:\n",
    "        print(\"Recall:\",str(tp/(tp+fn)))\n",
    "    if tp+0.5*(fp+fn)!=0:\n",
    "        print(\"F1 score:\",str(tp/(tp+0.5*(fp+fn))))\n",
    "    print()\n",
    "    print(\"True positives:\",tp)\n",
    "    print(\"True negatives:\",tn)\n",
    "    print(\"False positives:\",fp)\n",
    "    print(\"False negatives:\",fn)\n",
    "    print(\"------------------------------------------------\")"
   ]
  }
 ],
 "metadata": {
  "kernelspec": {
   "display_name": "Python 3",
   "language": "python",
   "name": "python3"
  },
  "language_info": {
   "codemirror_mode": {
    "name": "ipython",
    "version": 3
   },
   "file_extension": ".py",
   "mimetype": "text/x-python",
   "name": "python",
   "nbconvert_exporter": "python",
   "pygments_lexer": "ipython3",
   "version": "3.7.4"
  }
 },
 "nbformat": 4,
 "nbformat_minor": 4
}
