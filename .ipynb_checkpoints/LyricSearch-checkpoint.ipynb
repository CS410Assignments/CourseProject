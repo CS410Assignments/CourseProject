{
 "cells": [
  {
   "cell_type": "markdown",
   "metadata": {
    "id": "DlrmluRfNayp"
   },
   "source": [
    "First, we install the lyricsgenius API:"
   ]
  },
  {
   "cell_type": "code",
   "execution_count": 1,
   "metadata": {
    "colab": {
     "base_uri": "https://localhost:8080/"
    },
    "id": "2v6oNAIxM1TN",
    "outputId": "0912025a-a0ea-47e6-8445-0e0c3cb6360c"
   },
   "outputs": [
    {
     "name": "stdout",
     "output_type": "stream",
     "text": [
      "Requirement already satisfied: lyricsgenius in c:\\users\\joshu\\anaconda3\\lib\\site-packages (3.0.1)\n",
      "Requirement already satisfied: beautifulsoup4>=4.6.0 in c:\\users\\joshu\\anaconda3\\lib\\site-packages (from lyricsgenius) (4.9.3)\n",
      "Requirement already satisfied: requests>=2.20.0 in c:\\users\\joshu\\anaconda3\\lib\\site-packages (from lyricsgenius) (2.25.1)\n",
      "Requirement already satisfied: soupsieve>1.2 in c:\\users\\joshu\\anaconda3\\lib\\site-packages (from beautifulsoup4>=4.6.0->lyricsgenius) (2.2.1)\n",
      "Requirement already satisfied: idna<3,>=2.5 in c:\\users\\joshu\\anaconda3\\lib\\site-packages (from requests>=2.20.0->lyricsgenius) (2.10)\n",
      "Requirement already satisfied: certifi>=2017.4.17 in c:\\users\\joshu\\anaconda3\\lib\\site-packages (from requests>=2.20.0->lyricsgenius) (2020.12.5)\n",
      "Requirement already satisfied: urllib3<1.27,>=1.21.1 in c:\\users\\joshu\\anaconda3\\lib\\site-packages (from requests>=2.20.0->lyricsgenius) (1.26.4)\n",
      "Requirement already satisfied: chardet<5,>=3.0.2 in c:\\users\\joshu\\anaconda3\\lib\\site-packages (from requests>=2.20.0->lyricsgenius) (4.0.0)\n"
     ]
    }
   ],
   "source": [
    "!pip install lyricsgenius"
   ]
  },
  {
   "cell_type": "markdown",
   "metadata": {},
   "source": [
    "We import the libraries and set a path for our input file of artists:"
   ]
  },
  {
   "cell_type": "code",
   "execution_count": 5,
   "metadata": {
    "id": "AwPBO5kVbh-h"
   },
   "outputs": [],
   "source": [
    "from lyricsgenius import Genius\n",
    "import json\n",
    "import csv\n",
    "import multiprocess\n",
    "import queue\n",
    "import logging\n",
    "import sys\n",
    "\n",
    "# OS agnostic\n",
    "import os \n",
    "CSV_PATH = os.path.join(os.path.curdir, 'artists', '10000-MTV-Music-Artists-page-%s.csv')"
   ]
  },
  {
   "cell_type": "markdown",
   "metadata": {
    "id": "PjAsUT5ZOSex"
   },
   "source": [
    "Now we import the artist dataset into an array. This consists of the top 10,000 artists listed on MTV:"
   ]
  },
  {
   "cell_type": "markdown",
   "metadata": {},
   "source": [
    "We set up a lyricsgenius token, and use the API to pull the lyrics data for each artist in the dataset:"
   ]
  },
  {
   "cell_type": "code",
   "execution_count": 14,
   "metadata": {
    "id": "7zBQzXBJNabo"
   },
   "outputs": [
    {
     "name": "stdout",
     "output_type": "stream",
     "text": [
      "Reading previous\n"
     ]
    },
    {
     "ename": "NameError",
     "evalue": "name 'artist_set' is not defined",
     "output_type": "error",
     "traceback": [
      "\u001b[0;31m---------------------------------------------------------------------------\u001b[0m",
      "\u001b[0;31mNameError\u001b[0m                                 Traceback (most recent call last)",
      "\u001b[0;32m/var/folders/jc/85vy06cn6b13gcm4rcvz9_fw0000gq/T/ipykernel_9921/4078998386.py\u001b[0m in \u001b[0;36m<module>\u001b[0;34m\u001b[0m\n\u001b[1;32m    186\u001b[0m \u001b[0;34m\u001b[0m\u001b[0m\n\u001b[1;32m    187\u001b[0m \u001b[0;34m\u001b[0m\u001b[0m\n\u001b[0;32m--> 188\u001b[0;31m \u001b[0mrun\u001b[0m\u001b[0;34m(\u001b[0m\u001b[0mmulti_core\u001b[0m\u001b[0;34m=\u001b[0m\u001b[0;32mTrue\u001b[0m\u001b[0;34m)\u001b[0m\u001b[0;34m\u001b[0m\u001b[0;34m\u001b[0m\u001b[0m\n\u001b[0m\u001b[1;32m    189\u001b[0m \u001b[0;34m\u001b[0m\u001b[0m\n\u001b[1;32m    190\u001b[0m \u001b[0;34m\u001b[0m\u001b[0m\n",
      "\u001b[0;32m/var/folders/jc/85vy06cn6b13gcm4rcvz9_fw0000gq/T/ipykernel_9921/4078998386.py\u001b[0m in \u001b[0;36mrun\u001b[0;34m(multi_core)\u001b[0m\n\u001b[1;32m    144\u001b[0m     \u001b[0;31m# Load in any previous data\u001b[0m\u001b[0;34m\u001b[0m\u001b[0;34m\u001b[0m\u001b[0;34m\u001b[0m\u001b[0m\n\u001b[1;32m    145\u001b[0m     \u001b[0mprint\u001b[0m\u001b[0;34m(\u001b[0m\u001b[0;34m\"Reading previous\"\u001b[0m\u001b[0;34m)\u001b[0m\u001b[0;34m\u001b[0m\u001b[0;34m\u001b[0m\u001b[0m\n\u001b[0;32m--> 146\u001b[0;31m     \u001b[0mread_csv\u001b[0m\u001b[0;34m(\u001b[0m\u001b[0;34m)\u001b[0m\u001b[0;34m\u001b[0m\u001b[0;34m\u001b[0m\u001b[0m\n\u001b[0m\u001b[1;32m    147\u001b[0m \u001b[0;34m\u001b[0m\u001b[0m\n\u001b[1;32m    148\u001b[0m     \u001b[0mpool\u001b[0m \u001b[0;34m=\u001b[0m \u001b[0;32mNone\u001b[0m\u001b[0;34m\u001b[0m\u001b[0;34m\u001b[0m\u001b[0m\n",
      "\u001b[0;32m/var/folders/jc/85vy06cn6b13gcm4rcvz9_fw0000gq/T/ipykernel_9921/4078998386.py\u001b[0m in \u001b[0;36mread_csv\u001b[0;34m(file_name)\u001b[0m\n\u001b[1;32m     74\u001b[0m                 \u001b[0mfinal_\u001b[0m\u001b[0;34m.\u001b[0m\u001b[0mappend\u001b[0m\u001b[0;34m(\u001b[0m\u001b[0mentry\u001b[0m\u001b[0;34m)\u001b[0m\u001b[0;34m\u001b[0m\u001b[0;34m\u001b[0m\u001b[0m\n\u001b[1;32m     75\u001b[0m \u001b[0;34m\u001b[0m\u001b[0m\n\u001b[0;32m---> 76\u001b[0;31m         \u001b[0mprint\u001b[0m\u001b[0;34m(\u001b[0m\u001b[0;34m\"Number of artists already found {num}\"\u001b[0m\u001b[0;34m.\u001b[0m\u001b[0mformat\u001b[0m\u001b[0;34m(\u001b[0m\u001b[0mnum\u001b[0m\u001b[0;34m=\u001b[0m\u001b[0mlen\u001b[0m\u001b[0;34m(\u001b[0m\u001b[0martist_set\u001b[0m\u001b[0;34m)\u001b[0m\u001b[0;34m)\u001b[0m\u001b[0;34m)\u001b[0m\u001b[0;34m\u001b[0m\u001b[0;34m\u001b[0m\u001b[0m\n\u001b[0m\u001b[1;32m     77\u001b[0m     \u001b[0;32mexcept\u001b[0m \u001b[0mFileNotFoundError\u001b[0m\u001b[0;34m:\u001b[0m\u001b[0;34m\u001b[0m\u001b[0;34m\u001b[0m\u001b[0m\n\u001b[1;32m     78\u001b[0m         \u001b[0;32mpass\u001b[0m\u001b[0;34m\u001b[0m\u001b[0;34m\u001b[0m\u001b[0m\n",
      "\u001b[0;31mNameError\u001b[0m: name 'artist_set' is not defined"
     ]
    }
   ],
   "source": [
    "# Genius setup\n",
    "             \n",
    "def genius_setup():\n",
    "    token = \"EBufquOcw_ts4Y4V7yiddUNyUakTdqCpnMZhiI3XtAScWOntEom8Hj4T87gAV_cA\"\n",
    "    genius = Genius(token, retries=2)\n",
    "\n",
    "    genius.verbose = False\n",
    "    genius.remove_section_headers = True\n",
    "    genius.skip_non_songs = True\n",
    "    genius.excluded_terms = [\"(Remix)\", \"(Live)\"]\n",
    "\n",
    "    return genius    \n",
    "# Multiprocessing cores\n",
    "process_number = int(multiprocess.cpu_count()) * 2\n",
    "\n",
    "# Data management\n",
    "final_ = multiprocess.Manager().list()\n",
    "\n",
    "# artist_queue = queue.Queue()\n",
    "# final_ = []\n",
    "checked_artists = set()\n",
    "\n",
    "# Pull out artists\n",
    "def get_artists(queue):\n",
    "    for x in range(1,5):\n",
    "        path = CSV_PATH % str(x)\n",
    "        with open(path, encoding=\"UTF-8\") as csvfile:\n",
    "            TopArtists = csv.reader(csvfile)\n",
    "            \n",
    "            # Skip header\n",
    "            next(TopArtists)\n",
    "            for row in TopArtists:\n",
    "                artist = row[0]\n",
    "                # Check if we should skip this artists since we already found the data\n",
    "                if artist not in checked_artists:\n",
    "                    queue.put(artist)\n",
    "                      \n",
    "\n",
    "\n",
    "# File management\n",
    "def write_to_csv(data, file_name=\"song_data.csv\"):\n",
    "    \"\"\"\n",
    "    data: list of dictionaries {artist, song, data}\n",
    "    \"\"\"\n",
    "    \n",
    "    csv_path = os.path.join(os.path.curdir, 'data', file_name)\n",
    "    with open(csv_path, 'w') as csv_file: \n",
    "        # creating a csv dict writer object \n",
    "        print(\"Entries: {num}\".format(num=len(data)))\n",
    "        keys = data[0].keys()\n",
    "        writer = csv.DictWriter(csv_file, fieldnames = keys) \n",
    "        \n",
    "        # writing headers (field names) \n",
    "        writer.writeheader() \n",
    "        \n",
    "        # writing data rows \n",
    "        writer.writerows(data) \n",
    "        \n",
    "\n",
    "def read_csv(file_name=\"song_data.csv\"):\n",
    "    global final_, checked_artists     \n",
    "    \n",
    "    csv_path = os.path.join(os.path.curdir, 'data', file_name)\n",
    "    \n",
    "    # opening the CSV file\n",
    "    try:\n",
    "        with open(csv_path, mode ='r') as file:   \n",
    "\n",
    "            # reading the CSV file\n",
    "            data = csv.DictReader(file)\n",
    "\n",
    "            for entry in data:\n",
    "                checked_artists.add(entry[\"artist\"])\n",
    "                final_.append(entry)\n",
    "                \n",
    "        print(\"Number of artists already found {num}\".format(num=len(checked_artists)))\n",
    "    except FileNotFoundError:\n",
    "        pass\n",
    "    \n",
    "\n",
    "# Run genius search\n",
    "def search_genius(args):\n",
    "    import sys\n",
    "    artist_queue, num, genius, final_ = args\n",
    "    \n",
    "    def log(string):\n",
    "        print(\"[{num}] \".format(num=num) + string + \"\\n\", end='')\n",
    "        sys.stdout.flush()\n",
    "    \n",
    "    # Processing\n",
    "    def clean_data(data):\n",
    "        cleaned_data = data.replace(\"\\n\", \" \").replace(\",\", \" \")\n",
    "        return cleaned_data\n",
    "\n",
    "    def process_artist(artist):\n",
    "        artist_dict = artist.to_dict()\n",
    "        return \"\"\n",
    "\n",
    "    def process_song(song):\n",
    "        lyrics = clean_data(song.lyrics)\n",
    "        return lyrics\n",
    "\n",
    "    def build_entry(artist, song, data, columns = [\"artist\", \"song\", \"data\"]):\n",
    "        entry = {\"artist\": artist, \"song\": song, \"data\": data}\n",
    "        return entry\n",
    "    \n",
    "    log(\"Starting\")\n",
    "    \n",
    "    try:\n",
    "        while True:\n",
    "            artist = artist_queue.get()\n",
    "            if artist is None:\n",
    "                log(\"Done\")\n",
    "                return\n",
    "            log(\"Searching {artist}\".format(num=num, artist=artist.strip()))\n",
    "            \n",
    "            # Pull data for artist from genius\n",
    "            genius_artist = genius.search_artist(artist, per_page=50, get_full_info=False)\n",
    "            \n",
    "            log(\"Done searching Genius\")\n",
    "            if genius_artist == None:\n",
    "                log(\"{artist} not found\".format(num=num, artist=artist.strip()))\n",
    "                continue\n",
    "                           \n",
    "            artist_data =  process_artist(genius_artist)\n",
    "                           \n",
    "            log(\"{artist} number of songs: {song_num}\".format(num=num, artist=artist.strip(), song_num=len(genius_artist.songs)))\n",
    "            \n",
    "            for song in genius_artist.songs:\n",
    "                song_data = process_song(song)\n",
    "                \n",
    "                # Add to final list\n",
    "                final_.append(build_entry(artist, song.title, song_data))\n",
    "    \n",
    "    except Exception as e:\n",
    "        log(\"Something went wrong: {error}\".format(num=num, error= e))\n",
    "    \n",
    "    \n",
    "def run(multi_core=False): \n",
    "    \n",
    "    # Setup Genius\n",
    "    genius = genius_setup()\n",
    "    \n",
    "    # Load in any previous data\n",
    "    print(\"Reading previous\")\n",
    "    read_csv()\n",
    "    \n",
    "    pool = None\n",
    "    try:  \n",
    "        if multi_core:\n",
    "            # multiprocess.log_to_stderr().setLevel(logging.DEBUG)\n",
    "            print(\"Multiprocessing with {process_number} processes\".format(process_number=process_number))\n",
    "            \n",
    "            artist_queue = multiprocess.Manager().Queue()\n",
    "            get_artists(artist_queue)\n",
    "            \n",
    "            for x in range(process_number):\n",
    "                artist_queue.put(None)\n",
    "            \n",
    "            print(artist_queue.qsize())\n",
    "            # creating processes\n",
    "            with multiprocess.get_context(\"spawn\").Pool(process_number) as pool:\n",
    "                args = [(artist_queue, x, genius, final_) for x in range(process_number)]\n",
    "                pool.map(search_genius, args)\n",
    "                pool.close()\n",
    "                pool.join()\n",
    "            \n",
    "        else:\n",
    "            print(\"Running single core\")\n",
    "            artist_queue = queue.Queue()\n",
    "            get_artists(artist_queue)\n",
    "            artist_queue.put(None)\n",
    "            print(artist_queue.qsize())\n",
    "            search_genius((artist_queue, 0, genius, final_))\n",
    "\n",
    "    \n",
    "    except KeyboardInterrupt:\n",
    "        if pool:\n",
    "            pool.close()\n",
    "            pool.terminate()\n",
    "            pool.join()\n",
    "        print(\"KeyboardInterrupt: Writing results\")\n",
    "    \n",
    "    finally:\n",
    "        write_to_csv(list(final_))                       \n",
    "\n",
    "\n",
    "run(multi_core=True) \n",
    "\n",
    "\n"
   ]
  },
  {
   "cell_type": "code",
   "execution_count": null,
   "metadata": {},
   "outputs": [],
   "source": []
  }
 ],
 "metadata": {
  "colab": {
   "collapsed_sections": [],
   "name": "CS410 Project Bae Area",
   "provenance": []
  },
  "kernelspec": {
   "display_name": "Python 3 (ipykernel)",
   "language": "python",
   "name": "python3"
  },
  "language_info": {
   "codemirror_mode": {
    "name": "ipython",
    "version": 3
   },
   "file_extension": ".py",
   "mimetype": "text/x-python",
   "name": "python",
   "nbconvert_exporter": "python",
   "pygments_lexer": "ipython3",
   "version": "3.8.9"
  }
 },
 "nbformat": 4,
 "nbformat_minor": 4
}
