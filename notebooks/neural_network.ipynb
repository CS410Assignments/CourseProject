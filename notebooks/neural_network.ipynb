{
 "cells": [
  {
   "cell_type": "code",
   "execution_count": 61,
   "metadata": {},
   "outputs": [],
   "source": [
    "import pandas as pd\n",
    "import tensorflow as tf\n",
    "from tensorflow import keras\n",
    "from tensorflow.keras import layers\n",
    "import numpy as np\n",
    "import re\n",
    "from sklearn.feature_extraction.text import TfidfVectorizer\n",
    "from scipy.special import softmax\n",
    "from sklearn.metrics import accuracy_score\n",
    "from sklearn.metrics import mean_squared_error\n",
    "import math"
   ]
  },
  {
   "cell_type": "code",
   "execution_count": 69,
   "metadata": {},
   "outputs": [],
   "source": [
    "recipes = pd.read_csv(\"../src/data/recipes.csv\")\n",
    "reviews = pd.read_csv(\"../src/data/all_users.csv\")\n",
    "recipe_ids = pd.read_csv(\"../src/data/recipe_ids.csv\")"
   ]
  },
  {
   "cell_type": "code",
   "execution_count": 70,
   "metadata": {},
   "outputs": [],
   "source": [
    "transformed_user_ids = pd.DataFrame(reviews.user_id.unique()).reset_index()\n",
    "transformed_user_ids.columns = [\"transformed_user_id\",\"user_id\"]"
   ]
  },
  {
   "cell_type": "code",
   "execution_count": 71,
   "metadata": {},
   "outputs": [],
   "source": [
    "transformed_recipe_ids = pd.DataFrame(reviews.recipe_id.unique()).reset_index()\n",
    "transformed_recipe_ids.columns = [\"transformed_recipe_id\",\"recipe_id\"]"
   ]
  },
  {
   "cell_type": "code",
   "execution_count": 72,
   "metadata": {},
   "outputs": [],
   "source": [
    "reviews = reviews.merge(transformed_user_ids, on=\"user_id\")\n",
    "reviews = reviews.merge(transformed_recipe_ids, on=\"recipe_id\")"
   ]
  },
  {
   "cell_type": "code",
   "execution_count": 73,
   "metadata": {},
   "outputs": [],
   "source": [
    "# reviews[\"transformed_rating\"] = reviews.rating - 1"
   ]
  },
  {
   "cell_type": "code",
   "execution_count": 74,
   "metadata": {},
   "outputs": [],
   "source": [
    "user_vocab_size = reviews.transformed_user_id.max()\n",
    "item_vocab_size = reviews.transformed_recipe_id.max()"
   ]
  },
  {
   "cell_type": "code",
   "execution_count": 75,
   "metadata": {},
   "outputs": [],
   "source": [
    "tf.keras.backend.clear_session()\n",
    "np.random.seed(42)\n",
    "tf.random.set_seed(42)\n",
    "\n",
    "item_embedding_layer = layers.Embedding(input_dim = item_vocab_size + 1, output_dim=128, input_length = None)\n",
    "item_id = keras.Input(shape=(1,), name='item_ids')\n",
    "item_embeddings = item_embedding_layer(item_id)\n",
    "item_embeddings = layers.Dropout(rate=0.3)(item_embeddings)\n",
    "item_embeddings = layers.Flatten()(item_embeddings)\n",
    "item_embeddings = keras.Model(inputs=item_id, outputs=item_embeddings)\n",
    "\n",
    "user_id = keras.Input(shape=(1,), name='user_ids')\n",
    "user_embeddings = layers.Embedding(input_dim = user_vocab_size + 1, output_dim=128, input_length = None)(user_id)\n",
    "user_embeddings = layers.Dropout(rate=0.3)(user_embeddings)\n",
    "user_embeddings = layers.Flatten()(user_embeddings)\n",
    "user_embeddings = keras.Model(inputs=user_id, outputs=user_embeddings)\n",
    "\n",
    "dot = layers.Dot(axes=1)([user_embeddings.output, item_embeddings.output])\n",
    "s = keras.Model(inputs=[user_id, item_id], outputs=dot)\n",
    "\n",
    "combined = layers.concatenate([user_embeddings.output, item_embeddings.output])\n",
    "z = layers.BatchNormalization(name=\"bn_top_0\")(combined)\n",
    "z = layers.Dense(32, activation='relu', name='top_combined_dense_1')(z)\n",
    "z = layers.Dropout(rate=0.2)(z)\n",
    "z = layers.BatchNormalization(name=\"bn_top_1\")(z)\n",
    "z = layers.Dense(16, activation='relu', name='top_combined_dense_2')(z)\n",
    "z = layers.concatenate([z, s.output])\n",
    "z = layers.Dense(1, name='predictions')(z)\n",
    "model = keras.Model(inputs=[user_id, item_id], outputs=z)"
   ]
  },
  {
   "cell_type": "code",
   "execution_count": 76,
   "metadata": {},
   "outputs": [],
   "source": [
    "model.compile(optimizer=keras.optimizers.Adam(learning_rate=0.001),  # Optimizer\n",
    "              # Loss function to minimize\n",
    "              loss=tf.keras.losses.MSE,  \n",
    "              # List of metrics to monitor\n",
    "              metrics= [keras.metrics.MeanSquaredError()])"
   ]
  },
  {
   "cell_type": "code",
   "execution_count": 77,
   "metadata": {},
   "outputs": [],
   "source": [
    "train = reviews[reviews.date < \"2018-01-01\"]\n",
    "test = reviews[reviews.date >= \"2018-01-01\"]"
   ]
  },
  {
   "cell_type": "code",
   "execution_count": 78,
   "metadata": {},
   "outputs": [],
   "source": [
    "user_id_train = train.transformed_user_id[:-1000]\n",
    "item_id_train = train.transformed_recipe_id[:-1000]\n",
    "y_train = train.rating[:-1000]\n",
    "\n",
    "user_id_test = test.transformed_user_id\n",
    "item_id_test = test.transformed_recipe_id\n",
    "y_test = test.rating\n",
    "\n",
    "user_id_val = train.transformed_user_id[-1000:]\n",
    "item_id_val = train.transformed_recipe_id[-1000:]\n",
    "y_val = train.rating[-1000:]"
   ]
  },
  {
   "cell_type": "code",
   "execution_count": 79,
   "metadata": {},
   "outputs": [
    {
     "name": "stdout",
     "output_type": "stream",
     "text": [
      "Epoch 1/10\n",
      "54/54 [==============================] - 4s 67ms/step - loss: 9.7096 - mean_squared_error: 9.7096 - val_loss: 14.5267 - val_mean_squared_error: 14.5267\n",
      "Epoch 2/10\n",
      "54/54 [==============================] - 4s 66ms/step - loss: 1.9021 - mean_squared_error: 1.9021 - val_loss: 9.5941 - val_mean_squared_error: 9.5941\n",
      "Epoch 3/10\n",
      "54/54 [==============================] - 4s 65ms/step - loss: 1.0554 - mean_squared_error: 1.0554 - val_loss: 4.7126 - val_mean_squared_error: 4.7126\n",
      "Epoch 4/10\n",
      "54/54 [==============================] - 4s 65ms/step - loss: 0.7766 - mean_squared_error: 0.7766 - val_loss: 2.2471 - val_mean_squared_error: 2.2471\n",
      "Epoch 5/10\n",
      "54/54 [==============================] - 4s 65ms/step - loss: 0.6223 - mean_squared_error: 0.6223 - val_loss: 1.2300 - val_mean_squared_error: 1.2300\n",
      "Epoch 6/10\n",
      "54/54 [==============================] - 4s 65ms/step - loss: 0.5175 - mean_squared_error: 0.5175 - val_loss: 0.8960 - val_mean_squared_error: 0.8960\n",
      "Epoch 7/10\n",
      "54/54 [==============================] - 4s 66ms/step - loss: 0.4353 - mean_squared_error: 0.4353 - val_loss: 0.8189 - val_mean_squared_error: 0.8189\n",
      "Epoch 8/10\n",
      "54/54 [==============================] - 4s 66ms/step - loss: 0.3682 - mean_squared_error: 0.3682 - val_loss: 0.8511 - val_mean_squared_error: 0.8511\n",
      "Epoch 9/10\n",
      "54/54 [==============================] - 4s 66ms/step - loss: 0.3154 - mean_squared_error: 0.3154 - val_loss: 0.9038 - val_mean_squared_error: 0.9038\n",
      "Epoch 10/10\n",
      "54/54 [==============================] - 4s 65ms/step - loss: 0.2761 - mean_squared_error: 0.2761 - val_loss: 0.9297 - val_mean_squared_error: 0.9297\n",
      "\n",
      "history dict: {'loss': [9.709579467773438, 1.9021233320236206, 1.0553921461105347, 0.77657151222229, 0.6223452091217041, 0.5174590349197388, 0.43526729941368103, 0.36824601888656616, 0.31542855501174927, 0.27612096071243286], 'mean_squared_error': [9.709579467773438, 1.9021233320236206, 1.0553921461105347, 0.77657151222229, 0.6223452091217041, 0.5174590349197388, 0.43526729941368103, 0.36824601888656616, 0.31542855501174927, 0.27612096071243286], 'val_loss': [14.52668285369873, 9.594083786010742, 4.712585926055908, 2.2471163272857666, 1.2299772500991821, 0.8960283398628235, 0.8189418911933899, 0.8511294722557068, 0.9038393497467041, 0.9297377467155457], 'val_mean_squared_error': [14.52668285369873, 9.594083786010742, 4.712585926055908, 2.2471163272857666, 1.2299772500991821, 0.8960283398628235, 0.8189418911933899, 0.8511294722557068, 0.9038393497467041, 0.9297377467155457]}\n"
     ]
    }
   ],
   "source": [
    "keras.backend.clear_session()\n",
    "# del model\n",
    "history = model.fit([user_id_train, item_id_train], y_train,\n",
    "                    batch_size=1000,\n",
    "                    epochs=10,\n",
    "                    # We pass some validation for\n",
    "                    # monitoring validation loss and metrics\n",
    "                    # at the end of each epoch\n",
    "                    validation_data=([user_id_val, item_id_val], y_val)\n",
    "                   )\n",
    "print('\\nhistory dict:', history.history)"
   ]
  },
  {
   "cell_type": "markdown",
   "metadata": {},
   "source": [
    "### Evaluation"
   ]
  },
  {
   "cell_type": "markdown",
   "metadata": {},
   "source": [
    "#### Training metrics"
   ]
  },
  {
   "cell_type": "code",
   "execution_count": 80,
   "metadata": {},
   "outputs": [],
   "source": [
    "predictions = model.predict([user_id_train, item_id_train])"
   ]
  },
  {
   "cell_type": "code",
   "execution_count": 81,
   "metadata": {},
   "outputs": [
    {
     "name": "stdout",
     "output_type": "stream",
     "text": [
      "train rmse: 0.5276963342162481\n"
     ]
    }
   ],
   "source": [
    "print(\"train rmse:\", math.sqrt(mean_squared_error(y_train, predictions)))"
   ]
  },
  {
   "cell_type": "markdown",
   "metadata": {},
   "source": [
    "#### Test metrics"
   ]
  },
  {
   "cell_type": "code",
   "execution_count": 82,
   "metadata": {},
   "outputs": [],
   "source": [
    "predictions = model.predict([user_id_test, item_id_test])"
   ]
  },
  {
   "cell_type": "code",
   "execution_count": 83,
   "metadata": {},
   "outputs": [
    {
     "name": "stdout",
     "output_type": "stream",
     "text": [
      "test rmse: 0.7869372477106613\n"
     ]
    }
   ],
   "source": [
    "print(\"test rmse:\", math.sqrt(mean_squared_error(y_test, predictions)))"
   ]
  },
  {
   "cell_type": "markdown",
   "metadata": {},
   "source": [
    "### Adding content based features to the network"
   ]
  },
  {
   "cell_type": "code",
   "execution_count": 84,
   "metadata": {},
   "outputs": [],
   "source": [
    "recipes = recipes[[\"id\",\"summary\"]]"
   ]
  },
  {
   "cell_type": "code",
   "execution_count": 85,
   "metadata": {},
   "outputs": [],
   "source": [
    "train = train.merge(recipes, how=\"left\", left_on=\"recipe_id\",right_on=\"id\")\n",
    "test = test.merge(recipes, how=\"left\", left_on=\"recipe_id\",right_on=\"id\")"
   ]
  },
  {
   "cell_type": "code",
   "execution_count": 86,
   "metadata": {},
   "outputs": [
    {
     "data": {
      "text/plain": [
       "(54126, 10)"
      ]
     },
     "execution_count": 86,
     "metadata": {},
     "output_type": "execute_result"
    }
   ],
   "source": [
    "train.shape"
   ]
  },
  {
   "cell_type": "code",
   "execution_count": 87,
   "metadata": {},
   "outputs": [
    {
     "data": {
      "text/plain": [
       "(19122, 10)"
      ]
     },
     "execution_count": 87,
     "metadata": {},
     "output_type": "execute_result"
    }
   ],
   "source": [
    "test.shape"
   ]
  },
  {
   "cell_type": "code",
   "execution_count": null,
   "metadata": {},
   "outputs": [],
   "source": []
  },
  {
   "cell_type": "code",
   "execution_count": 88,
   "metadata": {},
   "outputs": [
    {
     "ename": "ValueError",
     "evalue": "np.nan is an invalid document, expected byte or unicode string.",
     "output_type": "error",
     "traceback": [
      "\u001b[0;31m---------------------------------------------------------------------------\u001b[0m",
      "\u001b[0;31mValueError\u001b[0m                                Traceback (most recent call last)",
      "\u001b[0;32m<ipython-input-88-cb3b4e14462f>\u001b[0m in \u001b[0;36m<module>\u001b[0;34m\u001b[0m\n\u001b[0;32m----> 1\u001b[0;31m \u001b[0mtrain_summary\u001b[0m \u001b[0;34m=\u001b[0m \u001b[0mvectorizer\u001b[0m\u001b[0;34m.\u001b[0m\u001b[0mfit_transform\u001b[0m\u001b[0;34m(\u001b[0m\u001b[0mtrain\u001b[0m\u001b[0;34m.\u001b[0m\u001b[0msummary\u001b[0m\u001b[0;34m)\u001b[0m\u001b[0;34m.\u001b[0m\u001b[0mtoarray\u001b[0m\u001b[0;34m(\u001b[0m\u001b[0;34m)\u001b[0m\u001b[0;34m\u001b[0m\u001b[0;34m\u001b[0m\u001b[0m\n\u001b[0m\u001b[1;32m      2\u001b[0m \u001b[0mtest_summary\u001b[0m \u001b[0;34m=\u001b[0m \u001b[0mvectorizer\u001b[0m\u001b[0;34m.\u001b[0m\u001b[0mtransform\u001b[0m\u001b[0;34m(\u001b[0m\u001b[0mtest\u001b[0m\u001b[0;34m.\u001b[0m\u001b[0msummary\u001b[0m\u001b[0;34m)\u001b[0m\u001b[0;34m.\u001b[0m\u001b[0mtoarray\u001b[0m\u001b[0;34m(\u001b[0m\u001b[0;34m)\u001b[0m\u001b[0;34m\u001b[0m\u001b[0;34m\u001b[0m\u001b[0m\n",
      "\u001b[0;32m~/miniconda/envs/cs410/lib/python3.6/site-packages/sklearn/feature_extraction/text.py\u001b[0m in \u001b[0;36mfit_transform\u001b[0;34m(self, raw_documents, y)\u001b[0m\n\u001b[1;32m   1839\u001b[0m         \"\"\"\n\u001b[1;32m   1840\u001b[0m         \u001b[0mself\u001b[0m\u001b[0;34m.\u001b[0m\u001b[0m_check_params\u001b[0m\u001b[0;34m(\u001b[0m\u001b[0;34m)\u001b[0m\u001b[0;34m\u001b[0m\u001b[0;34m\u001b[0m\u001b[0m\n\u001b[0;32m-> 1841\u001b[0;31m         \u001b[0mX\u001b[0m \u001b[0;34m=\u001b[0m \u001b[0msuper\u001b[0m\u001b[0;34m(\u001b[0m\u001b[0;34m)\u001b[0m\u001b[0;34m.\u001b[0m\u001b[0mfit_transform\u001b[0m\u001b[0;34m(\u001b[0m\u001b[0mraw_documents\u001b[0m\u001b[0;34m)\u001b[0m\u001b[0;34m\u001b[0m\u001b[0;34m\u001b[0m\u001b[0m\n\u001b[0m\u001b[1;32m   1842\u001b[0m         \u001b[0mself\u001b[0m\u001b[0;34m.\u001b[0m\u001b[0m_tfidf\u001b[0m\u001b[0;34m.\u001b[0m\u001b[0mfit\u001b[0m\u001b[0;34m(\u001b[0m\u001b[0mX\u001b[0m\u001b[0;34m)\u001b[0m\u001b[0;34m\u001b[0m\u001b[0;34m\u001b[0m\u001b[0m\n\u001b[1;32m   1843\u001b[0m         \u001b[0;31m# X is already a transformed view of raw_documents so\u001b[0m\u001b[0;34m\u001b[0m\u001b[0;34m\u001b[0m\u001b[0;34m\u001b[0m\u001b[0m\n",
      "\u001b[0;32m~/miniconda/envs/cs410/lib/python3.6/site-packages/sklearn/feature_extraction/text.py\u001b[0m in \u001b[0;36mfit_transform\u001b[0;34m(self, raw_documents, y)\u001b[0m\n\u001b[1;32m   1197\u001b[0m \u001b[0;34m\u001b[0m\u001b[0m\n\u001b[1;32m   1198\u001b[0m         vocabulary, X = self._count_vocab(raw_documents,\n\u001b[0;32m-> 1199\u001b[0;31m                                           self.fixed_vocabulary_)\n\u001b[0m\u001b[1;32m   1200\u001b[0m \u001b[0;34m\u001b[0m\u001b[0m\n\u001b[1;32m   1201\u001b[0m         \u001b[0;32mif\u001b[0m \u001b[0mself\u001b[0m\u001b[0;34m.\u001b[0m\u001b[0mbinary\u001b[0m\u001b[0;34m:\u001b[0m\u001b[0;34m\u001b[0m\u001b[0;34m\u001b[0m\u001b[0m\n",
      "\u001b[0;32m~/miniconda/envs/cs410/lib/python3.6/site-packages/sklearn/feature_extraction/text.py\u001b[0m in \u001b[0;36m_count_vocab\u001b[0;34m(self, raw_documents, fixed_vocab)\u001b[0m\n\u001b[1;32m   1108\u001b[0m         \u001b[0;32mfor\u001b[0m \u001b[0mdoc\u001b[0m \u001b[0;32min\u001b[0m \u001b[0mraw_documents\u001b[0m\u001b[0;34m:\u001b[0m\u001b[0;34m\u001b[0m\u001b[0;34m\u001b[0m\u001b[0m\n\u001b[1;32m   1109\u001b[0m             \u001b[0mfeature_counter\u001b[0m \u001b[0;34m=\u001b[0m \u001b[0;34m{\u001b[0m\u001b[0;34m}\u001b[0m\u001b[0;34m\u001b[0m\u001b[0;34m\u001b[0m\u001b[0m\n\u001b[0;32m-> 1110\u001b[0;31m             \u001b[0;32mfor\u001b[0m \u001b[0mfeature\u001b[0m \u001b[0;32min\u001b[0m \u001b[0manalyze\u001b[0m\u001b[0;34m(\u001b[0m\u001b[0mdoc\u001b[0m\u001b[0;34m)\u001b[0m\u001b[0;34m:\u001b[0m\u001b[0;34m\u001b[0m\u001b[0;34m\u001b[0m\u001b[0m\n\u001b[0m\u001b[1;32m   1111\u001b[0m                 \u001b[0;32mtry\u001b[0m\u001b[0;34m:\u001b[0m\u001b[0;34m\u001b[0m\u001b[0;34m\u001b[0m\u001b[0m\n\u001b[1;32m   1112\u001b[0m                     \u001b[0mfeature_idx\u001b[0m \u001b[0;34m=\u001b[0m \u001b[0mvocabulary\u001b[0m\u001b[0;34m[\u001b[0m\u001b[0mfeature\u001b[0m\u001b[0;34m]\u001b[0m\u001b[0;34m\u001b[0m\u001b[0;34m\u001b[0m\u001b[0m\n",
      "\u001b[0;32m~/miniconda/envs/cs410/lib/python3.6/site-packages/sklearn/feature_extraction/text.py\u001b[0m in \u001b[0;36m_analyze\u001b[0;34m(doc, analyzer, tokenizer, ngrams, preprocessor, decoder, stop_words)\u001b[0m\n\u001b[1;32m     97\u001b[0m \u001b[0;34m\u001b[0m\u001b[0m\n\u001b[1;32m     98\u001b[0m     \u001b[0;32mif\u001b[0m \u001b[0mdecoder\u001b[0m \u001b[0;32mis\u001b[0m \u001b[0;32mnot\u001b[0m \u001b[0;32mNone\u001b[0m\u001b[0;34m:\u001b[0m\u001b[0;34m\u001b[0m\u001b[0;34m\u001b[0m\u001b[0m\n\u001b[0;32m---> 99\u001b[0;31m         \u001b[0mdoc\u001b[0m \u001b[0;34m=\u001b[0m \u001b[0mdecoder\u001b[0m\u001b[0;34m(\u001b[0m\u001b[0mdoc\u001b[0m\u001b[0;34m)\u001b[0m\u001b[0;34m\u001b[0m\u001b[0;34m\u001b[0m\u001b[0m\n\u001b[0m\u001b[1;32m    100\u001b[0m     \u001b[0;32mif\u001b[0m \u001b[0manalyzer\u001b[0m \u001b[0;32mis\u001b[0m \u001b[0;32mnot\u001b[0m \u001b[0;32mNone\u001b[0m\u001b[0;34m:\u001b[0m\u001b[0;34m\u001b[0m\u001b[0;34m\u001b[0m\u001b[0m\n\u001b[1;32m    101\u001b[0m         \u001b[0mdoc\u001b[0m \u001b[0;34m=\u001b[0m \u001b[0manalyzer\u001b[0m\u001b[0;34m(\u001b[0m\u001b[0mdoc\u001b[0m\u001b[0;34m)\u001b[0m\u001b[0;34m\u001b[0m\u001b[0;34m\u001b[0m\u001b[0m\n",
      "\u001b[0;32m~/miniconda/envs/cs410/lib/python3.6/site-packages/sklearn/feature_extraction/text.py\u001b[0m in \u001b[0;36mdecode\u001b[0;34m(self, doc)\u001b[0m\n\u001b[1;32m    217\u001b[0m \u001b[0;34m\u001b[0m\u001b[0m\n\u001b[1;32m    218\u001b[0m         \u001b[0;32mif\u001b[0m \u001b[0mdoc\u001b[0m \u001b[0;32mis\u001b[0m \u001b[0mnp\u001b[0m\u001b[0;34m.\u001b[0m\u001b[0mnan\u001b[0m\u001b[0;34m:\u001b[0m\u001b[0;34m\u001b[0m\u001b[0;34m\u001b[0m\u001b[0m\n\u001b[0;32m--> 219\u001b[0;31m             raise ValueError(\"np.nan is an invalid document, expected byte or \"\n\u001b[0m\u001b[1;32m    220\u001b[0m                              \"unicode string.\")\n\u001b[1;32m    221\u001b[0m \u001b[0;34m\u001b[0m\u001b[0m\n",
      "\u001b[0;31mValueError\u001b[0m: np.nan is an invalid document, expected byte or unicode string."
     ]
    }
   ],
   "source": [
    "train_summary = vectorizer.fit_transform(train.summary).toarray()\n",
    "test_summary = vectorizer.transform(test.summary).toarray()"
   ]
  },
  {
   "cell_type": "code",
   "execution_count": 13,
   "metadata": {},
   "outputs": [],
   "source": [
    "user_id_train = train.transformed_user_id[:-1000]\n",
    "item_id_train = train.transformed_recipe_id[:-1000]\n",
    "train_summary = train_summary[:-1000]\n",
    "y_train = train.rating[:-1000]\n",
    "\n",
    "user_id_test = test.transformed_user_id\n",
    "item_id_test = test.transformed_recipe_id\n",
    "y_test = test.rating\n",
    "\n",
    "user_id_val = train.transformed_user_id[-1000:]\n",
    "item_id_val = train.transformed_recipe_id[-1000:]\n",
    "val_summary = train_summary[-1000:]\n",
    "y_val = train.rating[-1000:]"
   ]
  },
  {
   "cell_type": "code",
   "execution_count": 14,
   "metadata": {},
   "outputs": [
    {
     "data": {
      "text/plain": [
       "(13182, 1935)"
      ]
     },
     "execution_count": 14,
     "metadata": {},
     "output_type": "execute_result"
    }
   ],
   "source": [
    "train_summary.shape"
   ]
  },
  {
   "cell_type": "code",
   "execution_count": 18,
   "metadata": {},
   "outputs": [],
   "source": [
    "tf.keras.backend.clear_session()\n",
    "np.random.seed(42)\n",
    "tf.random.set_seed(42)\n",
    "\n",
    "item_embedding_layer = layers.Embedding(input_dim = item_vocab_size + 1, output_dim=128, input_length = None)\n",
    "item_id = keras.Input(shape=(1,), name='item_ids')\n",
    "item_embeddings = item_embedding_layer(item_id)\n",
    "item_embeddings = layers.Dropout(rate=0.3)(item_embeddings)\n",
    "item_embeddings = layers.Flatten()(item_embeddings)\n",
    "item_embeddings = keras.Model(inputs=item_id, outputs=item_embeddings)\n",
    "\n",
    "user_id = keras.Input(shape=(1,), name='user_ids')\n",
    "user_embeddings = layers.Embedding(input_dim = user_vocab_size + 1, output_dim=128, input_length = None)(user_id)\n",
    "user_embeddings = layers.Dropout(rate=0.3)(user_embeddings)\n",
    "user_embeddings = layers.Flatten()(user_embeddings)\n",
    "user_embeddings = keras.Model(inputs=user_id, outputs=user_embeddings)\n",
    "\n",
    "summary_inputs = keras.Input(shape=(1935,), name='summary')\n",
    "summ = layers.Dense(128, activation='relu', name='summary_dense_1')(summary_inputs)\n",
    "summ = layers.Dropout(rate=0.2)(summ)\n",
    "summ = layers.Dense(32, activation='relu', name='summary_dense_2')(summ)\n",
    "summ = keras.Model(inputs=summary_inputs, outputs=summ)\n",
    "\n",
    "combined = layers.concatenate([user_embeddings.output, item_embeddings.output, summ.output])\n",
    "z = layers.BatchNormalization(name=\"bn_top_0\")(combined)\n",
    "z = layers.Dense(32, activation='relu', name='top_combined_dense_1')(z)\n",
    "z = layers.Dropout(rate=0.2)(z)\n",
    "z = layers.BatchNormalization(name=\"bn_top_1\")(z)\n",
    "z = layers.Dense(16, activation='relu', name='top_combined_dense_2')(z)\n",
    "z = layers.Dense(1, name='predictions')(z)\n",
    "hybrid_model = keras.Model(inputs=[user_id, item_id, summary_inputs], outputs=z)"
   ]
  },
  {
   "cell_type": "code",
   "execution_count": 19,
   "metadata": {},
   "outputs": [],
   "source": [
    "hybrid_model.compile(optimizer=keras.optimizers.Adam(learning_rate=0.003),  # Optimizer\n",
    "              # Loss function to minimize\n",
    "              loss=tf.keras.losses.MSE,  \n",
    "              # List of metrics to monitor\n",
    "              metrics= [keras.metrics.MeanSquaredError()])"
   ]
  },
  {
   "cell_type": "code",
   "execution_count": 20,
   "metadata": {},
   "outputs": [
    {
     "name": "stdout",
     "output_type": "stream",
     "text": [
      "Epoch 1/30\n",
      "14/14 [==============================] - 1s 75ms/step - loss: 15.1552 - mean_squared_error: 15.1552 - val_loss: 17.0616 - val_mean_squared_error: 17.0616\n",
      "Epoch 2/30\n",
      "14/14 [==============================] - 1s 66ms/step - loss: 4.2404 - mean_squared_error: 4.2404 - val_loss: 10.6762 - val_mean_squared_error: 10.6762\n",
      "Epoch 3/30\n",
      "14/14 [==============================] - 1s 66ms/step - loss: 1.7884 - mean_squared_error: 1.7884 - val_loss: 7.0648 - val_mean_squared_error: 7.0648\n",
      "Epoch 4/30\n",
      "14/14 [==============================] - 1s 64ms/step - loss: 1.0155 - mean_squared_error: 1.0155 - val_loss: 5.8488 - val_mean_squared_error: 5.8488\n",
      "Epoch 5/30\n",
      "14/14 [==============================] - 1s 65ms/step - loss: 0.7350 - mean_squared_error: 0.7350 - val_loss: 4.9471 - val_mean_squared_error: 4.9471\n",
      "Epoch 6/30\n",
      "14/14 [==============================] - 1s 67ms/step - loss: 0.5848 - mean_squared_error: 0.5848 - val_loss: 4.1341 - val_mean_squared_error: 4.1341\n",
      "Epoch 7/30\n",
      "14/14 [==============================] - 1s 66ms/step - loss: 0.4750 - mean_squared_error: 0.4750 - val_loss: 3.3950 - val_mean_squared_error: 3.3950\n",
      "Epoch 8/30\n",
      "14/14 [==============================] - 1s 66ms/step - loss: 0.3854 - mean_squared_error: 0.3854 - val_loss: 2.7005 - val_mean_squared_error: 2.7005\n",
      "Epoch 9/30\n",
      "14/14 [==============================] - 1s 66ms/step - loss: 0.3257 - mean_squared_error: 0.3257 - val_loss: 2.1731 - val_mean_squared_error: 2.1731\n",
      "Epoch 10/30\n",
      "14/14 [==============================] - 1s 64ms/step - loss: 0.2887 - mean_squared_error: 0.2887 - val_loss: 1.7585 - val_mean_squared_error: 1.7585\n",
      "Epoch 11/30\n",
      "14/14 [==============================] - 1s 65ms/step - loss: 0.2518 - mean_squared_error: 0.2518 - val_loss: 1.4754 - val_mean_squared_error: 1.4754\n",
      "Epoch 12/30\n",
      "14/14 [==============================] - 1s 65ms/step - loss: 0.2244 - mean_squared_error: 0.2244 - val_loss: 1.2683 - val_mean_squared_error: 1.2683\n",
      "Epoch 13/30\n",
      "14/14 [==============================] - 1s 64ms/step - loss: 0.1999 - mean_squared_error: 0.1999 - val_loss: 1.1347 - val_mean_squared_error: 1.1347\n",
      "Epoch 14/30\n",
      "14/14 [==============================] - 1s 65ms/step - loss: 0.1797 - mean_squared_error: 0.1797 - val_loss: 1.0308 - val_mean_squared_error: 1.0308\n",
      "Epoch 15/30\n",
      "14/14 [==============================] - 1s 64ms/step - loss: 0.1642 - mean_squared_error: 0.1642 - val_loss: 0.9752 - val_mean_squared_error: 0.9752\n",
      "Epoch 16/30\n",
      "14/14 [==============================] - 1s 64ms/step - loss: 0.1646 - mean_squared_error: 0.1646 - val_loss: 0.9347 - val_mean_squared_error: 0.9347\n",
      "Epoch 17/30\n",
      "14/14 [==============================] - 1s 64ms/step - loss: 0.1475 - mean_squared_error: 0.1475 - val_loss: 0.9006 - val_mean_squared_error: 0.9006\n",
      "Epoch 18/30\n",
      "14/14 [==============================] - 1s 64ms/step - loss: 0.1423 - mean_squared_error: 0.1423 - val_loss: 0.8915 - val_mean_squared_error: 0.8915\n",
      "Epoch 19/30\n",
      "14/14 [==============================] - 1s 67ms/step - loss: 0.1265 - mean_squared_error: 0.1265 - val_loss: 0.8816 - val_mean_squared_error: 0.8816\n",
      "Epoch 20/30\n",
      "14/14 [==============================] - 1s 66ms/step - loss: 0.1227 - mean_squared_error: 0.1227 - val_loss: 0.8846 - val_mean_squared_error: 0.8846\n",
      "Epoch 21/30\n",
      "14/14 [==============================] - 1s 65ms/step - loss: 0.1186 - mean_squared_error: 0.1186 - val_loss: 0.8859 - val_mean_squared_error: 0.8859\n",
      "Epoch 22/30\n",
      "14/14 [==============================] - 1s 67ms/step - loss: 0.1134 - mean_squared_error: 0.1134 - val_loss: 0.8922 - val_mean_squared_error: 0.8922\n",
      "Epoch 23/30\n",
      "14/14 [==============================] - 1s 66ms/step - loss: 0.1147 - mean_squared_error: 0.1147 - val_loss: 0.9031 - val_mean_squared_error: 0.9031\n",
      "Epoch 24/30\n",
      "14/14 [==============================] - 1s 65ms/step - loss: 0.1101 - mean_squared_error: 0.1101 - val_loss: 0.9153 - val_mean_squared_error: 0.9153\n",
      "Epoch 25/30\n",
      "14/14 [==============================] - 1s 68ms/step - loss: 0.1079 - mean_squared_error: 0.1079 - val_loss: 0.9243 - val_mean_squared_error: 0.9243\n",
      "Epoch 26/30\n",
      "14/14 [==============================] - 1s 68ms/step - loss: 0.1045 - mean_squared_error: 0.1045 - val_loss: 0.9279 - val_mean_squared_error: 0.9279\n",
      "Epoch 27/30\n",
      "14/14 [==============================] - 1s 66ms/step - loss: 0.1035 - mean_squared_error: 0.1035 - val_loss: 0.9296 - val_mean_squared_error: 0.9296\n",
      "Epoch 28/30\n",
      "14/14 [==============================] - 1s 64ms/step - loss: 0.0919 - mean_squared_error: 0.0919 - val_loss: 0.9341 - val_mean_squared_error: 0.9341\n",
      "Epoch 29/30\n",
      "14/14 [==============================] - 1s 68ms/step - loss: 0.0950 - mean_squared_error: 0.0950 - val_loss: 0.9425 - val_mean_squared_error: 0.9425\n",
      "Epoch 30/30\n",
      "14/14 [==============================] - 1s 64ms/step - loss: 0.0912 - mean_squared_error: 0.0912 - val_loss: 0.9377 - val_mean_squared_error: 0.9377\n",
      "\n",
      "history dict: {'loss': [15.155194282531738, 4.2404093742370605, 1.7883899211883545, 1.0155471563339233, 0.7349841594696045, 0.5847600698471069, 0.4749837815761566, 0.3853587210178375, 0.3257328271865845, 0.2886633276939392, 0.2518046200275421, 0.22438767552375793, 0.19992296397686005, 0.17970795929431915, 0.16424237191677094, 0.16463910043239594, 0.14751270413398743, 0.14227379858493805, 0.12645871937274933, 0.12270812690258026, 0.11864369362592697, 0.11337385326623917, 0.11472485214471817, 0.11007941514253616, 0.10789966583251953, 0.10451383888721466, 0.10349541902542114, 0.09192182868719101, 0.09502140432596207, 0.09120315313339233], 'mean_squared_error': [15.155194282531738, 4.2404093742370605, 1.7883899211883545, 1.0155471563339233, 0.7349841594696045, 0.5847600698471069, 0.4749837815761566, 0.3853587210178375, 0.3257328271865845, 0.2886633276939392, 0.2518046200275421, 0.22438767552375793, 0.19992296397686005, 0.17970795929431915, 0.16424237191677094, 0.16463910043239594, 0.14751270413398743, 0.14227379858493805, 0.12645871937274933, 0.12270812690258026, 0.11864369362592697, 0.11337385326623917, 0.11472485214471817, 0.11007941514253616, 0.10789966583251953, 0.10451383888721466, 0.10349541902542114, 0.09192182868719101, 0.09502140432596207, 0.09120315313339233], 'val_loss': [17.061603546142578, 10.676207542419434, 7.064821720123291, 5.848830223083496, 4.947065353393555, 4.13413143157959, 3.3949837684631348, 2.700500965118408, 2.173130750656128, 1.7585479021072388, 1.4754139184951782, 1.2682781219482422, 1.1347029209136963, 1.0307694673538208, 0.9752103686332703, 0.9347006678581238, 0.9006149172782898, 0.8914581537246704, 0.881635844707489, 0.8846352696418762, 0.8858978748321533, 0.8922210931777954, 0.9030691981315613, 0.915317714214325, 0.9242918491363525, 0.9279144406318665, 0.9296438694000244, 0.9340755343437195, 0.9424680471420288, 0.9377031326293945], 'val_mean_squared_error': [17.061603546142578, 10.676207542419434, 7.064821720123291, 5.848830223083496, 4.947065353393555, 4.13413143157959, 3.3949837684631348, 2.700500965118408, 2.173130750656128, 1.7585479021072388, 1.4754139184951782, 1.2682781219482422, 1.1347029209136963, 1.0307694673538208, 0.9752103686332703, 0.9347006678581238, 0.9006149172782898, 0.8914581537246704, 0.881635844707489, 0.8846352696418762, 0.8858978748321533, 0.8922210931777954, 0.9030691981315613, 0.915317714214325, 0.9242918491363525, 0.9279144406318665, 0.9296438694000244, 0.9340755343437195, 0.9424680471420288, 0.9377031326293945]}\n"
     ]
    }
   ],
   "source": [
    "keras.backend.clear_session()\n",
    "# del model\n",
    "history = hybrid_model.fit([user_id_train, item_id_train, train_summary], y_train,\n",
    "                    batch_size=1000,\n",
    "                    epochs=30,\n",
    "                    # We pass some validation for\n",
    "                    # monitoring validation loss and metrics\n",
    "                    # at the end of each epoch\n",
    "                    validation_data=([user_id_val, item_id_val, val_summary], y_val)\n",
    "                   )\n",
    "print('\\nhistory dict:', history.history)"
   ]
  },
  {
   "cell_type": "markdown",
   "metadata": {},
   "source": [
    "### Evaluation"
   ]
  },
  {
   "cell_type": "markdown",
   "metadata": {},
   "source": [
    "#### Training metrics"
   ]
  },
  {
   "cell_type": "code",
   "execution_count": 22,
   "metadata": {},
   "outputs": [],
   "source": [
    "predictions = hybrid_model.predict([user_id_train, item_id_train, train_summary])"
   ]
  },
  {
   "cell_type": "code",
   "execution_count": 23,
   "metadata": {},
   "outputs": [
    {
     "name": "stdout",
     "output_type": "stream",
     "text": [
      "train rmse: 0.5278610039725392\n"
     ]
    }
   ],
   "source": [
    "print(\"train rmse:\", math.sqrt(mean_squared_error(y_train, predictions)))"
   ]
  },
  {
   "cell_type": "markdown",
   "metadata": {},
   "source": [
    "#### Test metrics"
   ]
  },
  {
   "cell_type": "code",
   "execution_count": 24,
   "metadata": {},
   "outputs": [],
   "source": [
    "predictions = hybrid_model.predict([user_id_test, item_id_test, test_summary])"
   ]
  },
  {
   "cell_type": "code",
   "execution_count": 25,
   "metadata": {},
   "outputs": [
    {
     "name": "stdout",
     "output_type": "stream",
     "text": [
      "test rmse: 0.8310363581374476\n"
     ]
    }
   ],
   "source": [
    "print(\"test rmse:\", math.sqrt(mean_squared_error(y_test, predictions)))"
   ]
  },
  {
   "cell_type": "code",
   "execution_count": null,
   "metadata": {},
   "outputs": [],
   "source": []
  },
  {
   "cell_type": "code",
   "execution_count": null,
   "metadata": {},
   "outputs": [],
   "source": []
  }
 ],
 "metadata": {
  "kernelspec": {
   "display_name": "Python 3",
   "language": "python",
   "name": "python3"
  },
  "language_info": {
   "codemirror_mode": {
    "name": "ipython",
    "version": 3
   },
   "file_extension": ".py",
   "mimetype": "text/x-python",
   "name": "python",
   "nbconvert_exporter": "python",
   "pygments_lexer": "ipython3",
   "version": "3.6.12"
  }
 },
 "nbformat": 4,
 "nbformat_minor": 4
}
