{
 "cells": [
  {
   "cell_type": "code",
   "execution_count": 1,
   "metadata": {
    "collapsed": true,
    "ExecuteTime": {
     "end_time": "2023-11-26T21:26:22.726794300Z",
     "start_time": "2023-11-26T21:26:21.420221400Z"
    }
   },
   "outputs": [
    {
     "name": "stderr",
     "output_type": "stream",
     "text": [
      "[nltk_data] Downloading package stopwords to C:\\Users\\Yangliang\n",
      "[nltk_data]     Lu\\AppData\\Roaming\\nltk_data...\n",
      "[nltk_data]   Package stopwords is already up-to-date!\n",
      "[nltk_data] Downloading package punkt to C:\\Users\\Yangliang\n",
      "[nltk_data]     Lu\\AppData\\Roaming\\nltk_data...\n",
      "[nltk_data]   Package punkt is already up-to-date!\n"
     ]
    },
    {
     "data": {
      "text/plain": "True"
     },
     "execution_count": 1,
     "metadata": {},
     "output_type": "execute_result"
    }
   ],
   "source": [
    "from src.utils.database_utils import create_client, search_documents\n",
    "import torch\n",
    "import nltk\n",
    "from nltk.corpus import stopwords\n",
    "from nltk.tokenize import word_tokenize\n",
    "from nltk.stem import PorterStemmer\n",
    "nltk.download('stopwords')\n",
    "nltk.download('punkt')"
   ]
  },
  {
   "cell_type": "code",
   "execution_count": 2,
   "outputs": [
    {
     "name": "stdout",
     "output_type": "stream",
     "text": [
      "cuda\n"
     ]
    }
   ],
   "source": [
    "device = (\n",
    "    \"cuda\"\n",
    "    if torch.cuda.is_available()\n",
    "    else \"cpu\"\n",
    ")\n",
    "print(device)"
   ],
   "metadata": {
    "collapsed": false,
    "ExecuteTime": {
     "end_time": "2023-11-26T21:26:22.740977200Z",
     "start_time": "2023-11-26T21:26:22.737682100Z"
    }
   }
  },
  {
   "cell_type": "code",
   "execution_count": 3,
   "outputs": [],
   "source": [
    "client = create_client()"
   ],
   "metadata": {
    "collapsed": false,
    "ExecuteTime": {
     "end_time": "2023-11-26T21:26:22.798796100Z",
     "start_time": "2023-11-26T21:26:22.739688100Z"
    }
   }
  },
  {
   "cell_type": "code",
   "execution_count": 4,
   "outputs": [],
   "source": [
    "query = {\n",
    "        \"match\": {\n",
    "            \"keywords\": \"Bloomberg\"\n",
    "        }\n",
    "    }"
   ],
   "metadata": {
    "collapsed": false,
    "ExecuteTime": {
     "end_time": "2023-11-26T21:26:22.798796100Z",
     "start_time": "2023-11-26T21:26:22.755028200Z"
    }
   }
  },
  {
   "cell_type": "code",
   "execution_count": 5,
   "outputs": [],
   "source": [
    "res = search_documents(client, \"documents\", query)"
   ],
   "metadata": {
    "collapsed": false,
    "ExecuteTime": {
     "end_time": "2023-11-26T21:26:22.798796100Z",
     "start_time": "2023-11-26T21:26:22.761660600Z"
    }
   }
  },
  {
   "cell_type": "code",
   "execution_count": 6,
   "outputs": [],
   "source": [
    "def preprocess_text(text):\n",
    "    # Tokenize the text\n",
    "    words = word_tokenize(text)\n",
    "\n",
    "    # Initialize the stemmer\n",
    "    stemmer = PorterStemmer()\n",
    "\n",
    "    # Remove stopwords and apply stemming\n",
    "    filtered_words = [stemmer.stem(word) for word in words if word.lower() not in set(stopwords.words('english'))]\n",
    "\n",
    "    # Join the filtered words back into a string\n",
    "    preprocessed_text = ' '.join(filtered_words)\n",
    "\n",
    "    return preprocessed_text"
   ],
   "metadata": {
    "collapsed": false,
    "ExecuteTime": {
     "end_time": "2023-11-26T21:26:22.798796100Z",
     "start_time": "2023-11-26T21:26:22.790900400Z"
    }
   }
  },
  {
   "cell_type": "code",
   "execution_count": 7,
   "outputs": [],
   "source": [
    "# concatenate all the text to one string\n",
    "text = \"\"\n",
    "for doc in res[\"hits\"][\"hits\"]:\n",
    "    text += doc[\"_source\"][\"body\"] + '\\n'"
   ],
   "metadata": {
    "collapsed": false,
    "ExecuteTime": {
     "end_time": "2023-11-26T21:26:22.809857100Z",
     "start_time": "2023-11-26T21:26:22.792741100Z"
    }
   }
  },
  {
   "cell_type": "code",
   "execution_count": 19,
   "outputs": [],
   "source": [
    "text_list = [doc[\"_source\"][\"body\"] for doc in res[\"hits\"][\"hits\"]]"
   ],
   "metadata": {
    "collapsed": false,
    "ExecuteTime": {
     "end_time": "2023-11-26T21:38:34.159441900Z",
     "start_time": "2023-11-26T21:38:34.155284600Z"
    }
   }
  },
  {
   "cell_type": "code",
   "execution_count": 8,
   "outputs": [
    {
     "data": {
      "text/plain": "config.json:   0%|          | 0.00/1.44k [00:00<?, ?B/s]",
      "application/vnd.jupyter.widget-view+json": {
       "version_major": 2,
       "version_minor": 0,
       "model_id": "2b42054e8a4c43fd86ab4a3394c35a57"
      }
     },
     "metadata": {},
     "output_type": "display_data"
    },
    {
     "data": {
      "text/plain": "model.safetensors:   0%|          | 0.00/1.84G [00:00<?, ?B/s]",
      "application/vnd.jupyter.widget-view+json": {
       "version_major": 2,
       "version_minor": 0,
       "model_id": "8710f447e3a041d7b31e6e3a90f2733a"
      }
     },
     "metadata": {},
     "output_type": "display_data"
    },
    {
     "data": {
      "text/plain": "tokenizer_config.json:   0%|          | 0.00/1.32k [00:00<?, ?B/s]",
      "application/vnd.jupyter.widget-view+json": {
       "version_major": 2,
       "version_minor": 0,
       "model_id": "20747cc473fc459188aba4e74414e93a"
      }
     },
     "metadata": {},
     "output_type": "display_data"
    },
    {
     "data": {
      "text/plain": "vocab.json:   0%|          | 0.00/798k [00:00<?, ?B/s]",
      "application/vnd.jupyter.widget-view+json": {
       "version_major": 2,
       "version_minor": 0,
       "model_id": "d1e2af3548af485bbbb0b5c64d98dcb2"
      }
     },
     "metadata": {},
     "output_type": "display_data"
    },
    {
     "data": {
      "text/plain": "merges.txt:   0%|          | 0.00/456k [00:00<?, ?B/s]",
      "application/vnd.jupyter.widget-view+json": {
       "version_major": 2,
       "version_minor": 0,
       "model_id": "2a5718f2f34c439daf45d7a55cb705a6"
      }
     },
     "metadata": {},
     "output_type": "display_data"
    },
    {
     "data": {
      "text/plain": "tokenizer.json:   0%|          | 0.00/2.11M [00:00<?, ?B/s]",
      "application/vnd.jupyter.widget-view+json": {
       "version_major": 2,
       "version_minor": 0,
       "model_id": "446a8578e4f74d3cb23941be52f80d1d"
      }
     },
     "metadata": {},
     "output_type": "display_data"
    },
    {
     "data": {
      "text/plain": "special_tokens_map.json:   0%|          | 0.00/772 [00:00<?, ?B/s]",
      "application/vnd.jupyter.widget-view+json": {
       "version_major": 2,
       "version_minor": 0,
       "model_id": "345423de754c471e8e5c2fde82721a2d"
      }
     },
     "metadata": {},
     "output_type": "display_data"
    }
   ],
   "source": [
    "from transformers import pipeline\n",
    "hf_name = 'pszemraj/led-large-book-summary'\n",
    "\n",
    "summarizer = pipeline(\n",
    "    \"summarization\",\n",
    "    hf_name,\n",
    "    device=0 if torch.cuda.is_available() else -1,\n",
    ")"
   ],
   "metadata": {
    "collapsed": false,
    "ExecuteTime": {
     "end_time": "2023-11-26T21:29:50.470022400Z",
     "start_time": "2023-11-26T21:26:22.801856600Z"
    }
   }
  },
  {
   "cell_type": "code",
   "execution_count": 20,
   "outputs": [],
   "source": [
    "result = summarizer(\n",
    "    text_list,\n",
    "    min_length=16,\n",
    "    max_length=256,\n",
    "    no_repeat_ngram_size=3,\n",
    "    encoder_no_repeat_ngram_size=3,\n",
    "    repetition_penalty=3.5,\n",
    "    num_beams=4,\n",
    "    early_stopping=True,\n",
    "    clean_up_tokenization_spaces = True,\n",
    ")"
   ],
   "metadata": {
    "collapsed": false,
    "ExecuteTime": {
     "end_time": "2023-11-26T21:39:02.397378100Z",
     "start_time": "2023-11-26T21:38:41.192545800Z"
    }
   }
  },
  {
   "cell_type": "code",
   "execution_count": 21,
   "outputs": [
    {
     "data": {
      "text/plain": "[{'summary_text': \"In a test of investor interest in bitcoin, the cryptocurrency briefly surges 10% on Monday before paring its gains Tuesday. That day, some investors liquidate positions that were built up anticipating lower prices. There is little buyer interest in the cryptocoins after last year's rout and other recent market crashes. This week, however, there is some speculation about whether the SEC will eventually approve the launch of exchange traded funds that offer to buy and sell Bitcoins on the open market. On Tuesday, the CBOE Volatility index hits an all-time low. In the aftermath of the crash, some speculators began adding to their bearish bets on the currency. On Wednesday, the VIX trades as high as 2023, almost double the level at which it closed the day before. Traders speculate on whether this week's strong economic data will lead to greater adoption of cryptos.\"},\n {'summary_text': 'Bond traders get a glimpse \"of what the future end might look like.\" The Federal Reserve may be about to end its rate-hike campaign, but that doesn\\'t mean investors are ready to give up on bonds. After all, inflation remains stubbornly high. What if the Fed ends up raising rates even further? Some strategists think the market is overextending itself and needs to move back to \"the restrictive territory\" of where it\\'s been in the past. Meanwhile, haven demand from the Middle East war and the Trump administration\\'s efforts to contain the Hamas movement in Gaza helps keep safe haven demand alive. Despite this week\\'s rally, some strategists still see the market as vulnerable to recessions. Most Read From Bloomberg News Israel latest: Army says Hamas officials dead, over 600K in Gaza flee South US pushes to Confront Israel- Hamas War, Wears Outgrades China\\'s Access toAdvanced Chip Tech U.S. tightens Chip Tech Restrictions on China\\'s access to advanced Chip Tech Global markets remain stable as US tries to Containing Mideast War with Israel. Biden and Bantustan meet as Gaza invasion nears Amid volatile trading terms, Treasury yields have their biggest week since July after the Fed policymakers realize'},\n {'summary_text': 'Sumitomotomoyantoitsuitrust Holdings) Ltd. -- with financial-1 def, the bank as the name of the real result for the company\\'s stock is the funds that are invested is the fund which is the product of which and the funds are the funds used to invest the funds consists of such stocks in the funds includes those funds are a part of this fund will be the means of which they are invested portion of which the funds consist of these funds are also called \"cross-sharing securities,\" i.i. These funds are one of the most liquid ways of hedging the interest rate component of the mutual funds so far known in Japanese banking. The reason for the profit cut is partly due to unrealized losses realized from the selling of bear funds; other reasons include unrealized gains on the funds as well as unrealized gain on the bonds themselves. In addition, the decline in the value of its cross-fear funds has negated any dividend payment it was to pay, according to the bank. It expects actual profits for the fiscal year coming March, down half from what it had previously forecast. Most Read from Businessweek The Bank of Japan lowers its profit forecast because of unrealized loss on its bear funds. More From Bloomberg News'},\n {'summary_text': 'Amer has seen several employees leave its copper trading businesses in Shanghai in the face of weak market conditions. The company said in a written reply to Bloomberg that \"production and operations at Shanghai will continue as usual.\" Many of the workers left because they did not want to take unnecessary risks in a time of crisis. (Bloomberg News) -- In the latest example of China\\'s changing business environment, many employees quit their jobs in Shanghai based on the depressed price of copper. This reflects the strain on the group\\'s physical and financial resources caused by the government\\'s recent clampdown on trading in the state-owned securities. It also reflects the waning popularity of the Amer brand in China among middlemen and originators of new products such as fiber reinforced plastics. The firm\\'s shares are down more than 42% since the beginning of the year. Among the staff that have departed are some of those who were traders and others who were risk-averse due to low interest rates and rising competition from state-backed Houthis. A statement from the company issued through a Hong Kong-based subsidiary responds to this news. It reiterates that all production and activities at the company shall continue as before normal.'},\n {'summary_text': 'SBB, the Swedish landlord, is in trouble once more. One of its bondholders wants to be paid back, for real this time. It was one of the few times that a creditor has written such a formal demand notice, and now SBB may have to pay up on time. The company denies the charge, saying it had no way of calculating how much profit they would make when interest payments are factored in. This latest development comes as part of a broader reorganization plan announced by chief executive officer Leivsynnes in late September designed to streamline the company\\'s financial position. Earlier this summer, some bondholders -- advised by private equity firm PJTT Partners -- had demanded that several changes be made at the holding company. Now another creditor has come forward and demanded repayment on grounds that S BB breached a \"creditors\\' covenant\" by charging too high an interest cover ratio. According to the creditor, SBB has been profitable but has also been paying too much in interest. Synnes maintains that the covenant has been set forth previously and that he will do what is in the best interest of the company and all its stakeholders. Meanwhile, the Stockholm based landlord postpones its earnings report for the quarter ending November 13.'},\n {'summary_text': 'China\\'s stock market is in the grip of \"anxiety\" more than it has in a year, driven by fears over the US-China trade dispute. Shanghai Composite Index drops To Lowest Level Since October 2022 The Shanghai Composite hits its lowest ebb on Monday and threatens to breach an important trendline. Most Read From Bloomberg An oil giant quietly ditched the world\\'s biggest carbon capture plant Wall Street Voluntarily Shudders at Wild Treasuries Moves: Market Wrap China repeats Its View that Israel Must protect Civilians Hostages and Flight Threatens Cause Israel to ReethinkGaza Ground War The 10-Yen Breaks 5% For First Time since 2007 The most read news from Bloomberg includes: China Launches Anti-Counterfeiting Mechanism Inventories Are Surging in New York Fed Impatient Overstocks Are Slumping Because Of Uncertainty The price of money is going Up, And It\\'s Not Because Of The Fed The Ozemimpairment Effect Coming for Kidney, Heart disease Treatments UBS Targets More Billionaires Copyright 2023Copyright(2023) Bloomberg LP. All rights reserved. Reprinted with permission.'},\n {'summary_text': \"The recent spate of bond auctions has led to extreme volatility in the market, driven by investor wariness over the rising supply and expectations of an eventual recession. Worries about the US economy and the Middle East War have also stoked demand for safe haven assets such as Treasurys. Trump's decision to visit China on a rare trip to meet with Xi arrives in the news this week. From Bloomberg: The Army says Hamas officials dead, over 600K in Gaza flee SouthBiden plans visit to Israel to Check Polluting Industries AgainBiden will visit Israel during his upcoming visit to China. The spread between the two countries has been almost 13bps a day on average in the past five days. The rise in long-dated bonds poses additional challenges for traders as the Federal Reserves hiking pace may cause a recession or even lead to a slump in the longer term securities.\"},\n {'summary_text': \"Germany's business outlook improves slightly, suggesting that the country's largest economy may be poised to bounce back moderately in the fourth quarter. Ifo expects the German economy to grow only slightly in the final three months of the year. That's good news for manufacturers, but it doesn't mean things are about to turn around for the country. Other indicators such as the unemployment rate and labor market weakness aren't looking too bright either. This bodes poorly for Germany's export-oriented manufacturing industry, which is already suffering. Most Read From Bloomberg Trump Signsals support for Johnson's Bid to Be House Speaker Johnson's bid to become House Speaker Israel Finally Settles The Hospital Blast The Real Deal China Makes Default on US Bond for the First Time Nobody wants Mutual Funds Anymore. Controversial Chip In Huawei Phone Made on AsML Machine As ever, this week's must-read news from Bloomberg has to do with China.\"},\n {'summary_text': 'Shein, the Singapore-based fashion company, is planning an IPO that will value it at more than three times its market value in public trades as it prepares to launch in the United States. In private trading, however, the stock is trading at a fraction of its worth. That\\'s because investors are wary of new investments driven by concerns over labor practices, intellectual property rights infringement, copyright theft, and allegations of \"forced labor\" in the supply chain. These perceived risks have already crimped Shein\\'s prospects for success. What\\'s Next Shein plans to go public on the open market and raise as much money as possible. It\\'s looking good that way, considering how well the company has done so far. However, there are still plenty of challenges facing the company ahead. For one thing, it faces fierce competition from another Singaporean company called Temu, which has raised tens of millions of dollars in venture capital and has aggressively increased its presence in Latin America. Temu also competes on several fronts, most notably with the help of ex-SoftBank senior executives. The companies have also been sued by each other.'},\n {'summary_text': \"China's stock market sees a brief burst of enthusiasm on Wednesday, but the gains are short-lived and the sector soon recedes. This has been a pattern for the stock market this year as bold policy steps are hailed at the beginning of the day and then seem to fade by the end. Country Garden defaults on a dollar bond for the first time. Overall, however, investors see limited support in the latest stimulus measures. Foreign investors become net sellers again in Shanghai and Hong Kong stocks. Trump signals support for Johnson's bid to become House Speaker, US determines Israel was not behind Hospital Blast Country Garden goes into default on Bond No one wants mutual funds now? Controversial chip in Huawei phone produced on AsML Machine The CSI 300 ends barely higher, after having closed just flat on the previous day. Most Read From Bloomberg Trump signals Support for John Johnson's Bid to Be House Speaker Johnson makes China his next stop\"}]"
     },
     "execution_count": 21,
     "metadata": {},
     "output_type": "execute_result"
    }
   ],
   "source": [
    "result"
   ],
   "metadata": {
    "collapsed": false,
    "ExecuteTime": {
     "end_time": "2023-11-26T21:39:02.400489900Z",
     "start_time": "2023-11-26T21:39:02.397378100Z"
    }
   }
  },
  {
   "cell_type": "code",
   "execution_count": 16,
   "outputs": [],
   "source": [
    "result = summarizer(\n",
    "    text,\n",
    "    min_length=16,\n",
    "    max_length=64,\n",
    "    no_repeat_ngram_size=3,\n",
    "    encoder_no_repeat_ngram_size=3,\n",
    "    repetition_penalty=3.5,\n",
    "    num_beams=4,\n",
    "    early_stopping=True,\n",
    "    clean_up_tokenization_spaces = True,\n",
    ")"
   ],
   "metadata": {
    "collapsed": false,
    "ExecuteTime": {
     "end_time": "2023-11-26T21:33:25.908711300Z",
     "start_time": "2023-11-26T21:33:24.566023Z"
    }
   }
  },
  {
   "cell_type": "code",
   "execution_count": 17,
   "outputs": [
    {
     "data": {
      "text/plain": "[{'summary_text': \"In this week's edition of the Market Wrap, we get a brief glimpse of what could happen to the cryptocurrency market as the Securities and Exchange Commission prepares to decide on whether or not to approve exchange traded funds that would allow investors to buy and sell directly into the currency. A rumor that Blackrock has\"}]"
     },
     "execution_count": 17,
     "metadata": {},
     "output_type": "execute_result"
    }
   ],
   "source": [
    "result"
   ],
   "metadata": {
    "collapsed": false,
    "ExecuteTime": {
     "end_time": "2023-11-26T21:33:31.289026500Z",
     "start_time": "2023-11-26T21:33:31.280021900Z"
    }
   }
  },
  {
   "cell_type": "code",
   "execution_count": 18,
   "outputs": [],
   "source": [],
   "metadata": {
    "collapsed": false,
    "ExecuteTime": {
     "end_time": "2023-11-26T21:34:15.980889Z",
     "start_time": "2023-11-26T21:34:15.969347100Z"
    }
   }
  },
  {
   "cell_type": "code",
   "execution_count": null,
   "outputs": [],
   "source": [],
   "metadata": {
    "collapsed": false
   }
  }
 ],
 "metadata": {
  "kernelspec": {
   "display_name": "Python 3",
   "language": "python",
   "name": "python3"
  },
  "language_info": {
   "codemirror_mode": {
    "name": "ipython",
    "version": 2
   },
   "file_extension": ".py",
   "mimetype": "text/x-python",
   "name": "python",
   "nbconvert_exporter": "python",
   "pygments_lexer": "ipython2",
   "version": "2.7.6"
  }
 },
 "nbformat": 4,
 "nbformat_minor": 0
}
