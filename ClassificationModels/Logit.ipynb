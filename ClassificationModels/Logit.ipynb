{
 "cells": [
  {
   "cell_type": "code",
   "execution_count": 31,
   "metadata": {},
   "outputs": [
    {
     "ename": "TypeError",
     "evalue": "__init__() got an unexpected keyword argument 'class_weight'",
     "output_type": "error",
     "traceback": [
      "\u001b[1;31m---------------------------------------------------------------------------\u001b[0m",
      "\u001b[1;31mTypeError\u001b[0m                                 Traceback (most recent call last)",
      "\u001b[1;32mc:\\Users\\emilysallens\\Desktop\\CS 410\\ZodiacKillers\\ClassificationModels\\Logit.ipynb Cell 1\u001b[0m in \u001b[0;36m<module>\u001b[1;34m\u001b[0m\n\u001b[0;32m     <a href='vscode-notebook-cell:/c%3A/Users/emilysallens/Desktop/CS%20410/ZodiacKillers/ClassificationModels/Logit.ipynb#W0sZmlsZQ%3D%3D?line=36'>37</a>\u001b[0m \u001b[39mfrom\u001b[39;00m \u001b[39msklearn\u001b[39;00m\u001b[39m.\u001b[39;00m\u001b[39mnaive_bayes\u001b[39;00m \u001b[39mimport\u001b[39;00m BernoulliNB\n\u001b[0;32m     <a href='vscode-notebook-cell:/c%3A/Users/emilysallens/Desktop/CS%20410/ZodiacKillers/ClassificationModels/Logit.ipynb#W0sZmlsZQ%3D%3D?line=37'>38</a>\u001b[0m \u001b[39mfrom\u001b[39;00m \u001b[39msklearn\u001b[39;00m \u001b[39mimport\u001b[39;00m metrics\n\u001b[1;32m---> <a href='vscode-notebook-cell:/c%3A/Users/emilysallens/Desktop/CS%20410/ZodiacKillers/ClassificationModels/Logit.ipynb#W0sZmlsZQ%3D%3D?line=38'>39</a>\u001b[0m clf \u001b[39m=\u001b[39m BernoulliNB(class_weight\u001b[39m=\u001b[39;49m{\u001b[39m0\u001b[39;49m: \u001b[39m0.17\u001b[39;49m, \u001b[39m1\u001b[39;49m: \u001b[39m0.83\u001b[39;49m})\u001b[39m.\u001b[39mfit(X_train_features, y_train)\n\u001b[0;32m     <a href='vscode-notebook-cell:/c%3A/Users/emilysallens/Desktop/CS%20410/ZodiacKillers/ClassificationModels/Logit.ipynb#W0sZmlsZQ%3D%3D?line=40'>41</a>\u001b[0m \u001b[39m# predict labels for test data\u001b[39;00m\n\u001b[0;32m     <a href='vscode-notebook-cell:/c%3A/Users/emilysallens/Desktop/CS%20410/ZodiacKillers/ClassificationModels/Logit.ipynb#W0sZmlsZQ%3D%3D?line=41'>42</a>\u001b[0m y_pred \u001b[39m=\u001b[39m clf\u001b[39m.\u001b[39mpredict(X_test_features)\n",
      "File \u001b[1;32mc:\\Python39\\lib\\site-packages\\sklearn\\utils\\validation.py:63\u001b[0m, in \u001b[0;36m_deprecate_positional_args.<locals>._inner_deprecate_positional_args.<locals>.inner_f\u001b[1;34m(*args, **kwargs)\u001b[0m\n\u001b[0;32m     61\u001b[0m extra_args \u001b[39m=\u001b[39m \u001b[39mlen\u001b[39m(args) \u001b[39m-\u001b[39m \u001b[39mlen\u001b[39m(all_args)\n\u001b[0;32m     62\u001b[0m \u001b[39mif\u001b[39;00m extra_args \u001b[39m<\u001b[39m\u001b[39m=\u001b[39m \u001b[39m0\u001b[39m:\n\u001b[1;32m---> 63\u001b[0m     \u001b[39mreturn\u001b[39;00m f(\u001b[39m*\u001b[39margs, \u001b[39m*\u001b[39m\u001b[39m*\u001b[39mkwargs)\n\u001b[0;32m     65\u001b[0m \u001b[39m# extra_args > 0\u001b[39;00m\n\u001b[0;32m     66\u001b[0m args_msg \u001b[39m=\u001b[39m [\u001b[39m'\u001b[39m\u001b[39m{}\u001b[39;00m\u001b[39m=\u001b[39m\u001b[39m{}\u001b[39;00m\u001b[39m'\u001b[39m\u001b[39m.\u001b[39mformat(name, arg)\n\u001b[0;32m     67\u001b[0m             \u001b[39mfor\u001b[39;00m name, arg \u001b[39min\u001b[39;00m \u001b[39mzip\u001b[39m(kwonly_args[:extra_args],\n\u001b[0;32m     68\u001b[0m                                  args[\u001b[39m-\u001b[39mextra_args:])]\n",
      "\u001b[1;31mTypeError\u001b[0m: __init__() got an unexpected keyword argument 'class_weight'"
     ]
    }
   ],
   "source": [
    "# Code adapted from UIUC PS 590: Images and Text as Data\n",
    "# by Prof. Nora Webb Williams. She adapted from adapted \n",
    "# from Diyi Yang and crew at Georgia Tech.\n",
    "from sklearn.model_selection import train_test_split\n",
    "from sklearn.feature_extraction.text import TfidfVectorizer\n",
    "import pandas as pd\n",
    "from sklearn.feature_extraction.text import TfidfVectorizer\n",
    "from sklearn.metrics import accuracy_score\n",
    "from sklearn.metrics import f1_score\n",
    "\n",
    "df = pd.read_csv(\"../TwitterData/prelim_dataset.csv\")\n",
    "df\n",
    "text = df['text'].to_list()\n",
    "labels = df['Islamophobic?'].to_list()\n",
    "\n",
    "tfidf = TfidfVectorizer(ngram_range=(1, 2), stop_words='english')\n",
    "features = tfidf.fit_transform(text)\n",
    "\n",
    "# We first split the original data into train and test set\n",
    "X_train, X_test, y_train, y_test = train_test_split(text, labels, random_state = 0)\n",
    "\n",
    "# TODO: More text pre-processing?\n",
    "# Extract features\n",
    "tfidf = TfidfVectorizer(ngram_range=(1, 2), stop_words='english')\n",
    "tfidf.fit(X_train)\n",
    "X_train_features = tfidf.transform(X_train)\n",
    "\n",
    "X_test_features = tfidf.transform(X_test)\n",
    " \n",
    "# TODO: try the other models as well\n",
    "# Bayes Classifier\n",
    "from sklearn.naive_bayes import MultinomialNB\n",
    "# Logistic Regression Classifier\n",
    "from sklearn.linear_model import LogisticRegression\n",
    "# Linear Support Vector Machine\n",
    "from sklearn.svm import LinearSVC\n",
    "from sklearn.naive_bayes import BernoulliNB\n",
    "from sklearn import metrics\n",
    "# NOTE: Substitute in MultinomialNB, LogisticRegression, LinearSVC, BernoulliNB\n",
    "# only LogisticRegression and LinearSVC accept class weights\n",
    "# Also note that the class weights should be proportional to how often the labels\n",
    "# appear in the data set (if only a fifth of the data is labeled as 1, then 1 gets a\n",
    "# weight of 5)\n",
    "clf = LogisticRegression(class_weight={0: 0.17, 1: 0.83}).fit(X_train_features, y_train)\n",
    "\n",
    "# predict labels for test data\n",
    "y_pred = clf.predict(X_test_features)\n",
    "\n",
    "# Metrics\n",
    "accuracy_score(y_test, y_pred)\n",
    "print(\"Macro:\", f1_score(y_test, y_pred, average='macro'))\n",
    "print(\"Micro:\", f1_score(y_test, y_pred, average='micro'))\n",
    "\n",
    "# f1_score(y_test, y_pred, average='micro')\n",
    "print(metrics.classification_report(y_test, y_pred))"
   ]
  }
 ],
 "metadata": {
  "kernelspec": {
   "display_name": "Python 3.9.1 64-bit",
   "language": "python",
   "name": "python3"
  },
  "language_info": {
   "codemirror_mode": {
    "name": "ipython",
    "version": 3
   },
   "file_extension": ".py",
   "mimetype": "text/x-python",
   "name": "python",
   "nbconvert_exporter": "python",
   "pygments_lexer": "ipython3",
   "version": "3.9.1"
  },
  "orig_nbformat": 4,
  "vscode": {
   "interpreter": {
    "hash": "81794d4967e6c3204c66dcd87b604927b115b27c00565d3d43f05ba2f3a2cb0d"
   }
  }
 },
 "nbformat": 4,
 "nbformat_minor": 2
}
