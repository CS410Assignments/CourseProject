{
 "cells": [
  {
   "cell_type": "code",
   "execution_count": null,
   "metadata": {},
   "outputs": [],
   "source": [
    "# Code adapted from UIUC PS 590: Images and Text as Data\n",
    "# by Prof. Nora Webb Williams. She adapted from adapted \n",
    "# from Diyi Yang and crew at Georgia Tech.\n",
    "from sklearn.model_selection import train_test_split\n",
    "from sklearn.feature_extraction.text import TfidfVectorizer\n",
    "import pandas as pd\n",
    "from sklearn.feature_extraction.text import TfidfVectorizer\n",
    "from sklearn.metrics import accuracy_score\n",
    "from sklearn.metrics import f1_score\n",
    "\n",
    "df = pd.read_csv(\"data.csv\")\n",
    "text = df['text'].to_list()\n",
    "labels = df['label'].to_list()\n",
    "\n",
    "tfidf = TfidfVectorizer(ngram_range=(1, 2), stop_words='english')\n",
    "features = tfidf.fit_transform(text)\n",
    "\n",
    "# We first split the original data into train and test set\n",
    "X_train, X_test, y_train, y_test = train_test_split(text, labels, random_state = 0)\n",
    "\n",
    "# TODO: More text pre-processing?\n",
    "# Extract features\n",
    "tfidf = TfidfVectorizer(ngram_range=(1, 2), stop_words='english')\n",
    "tfidf.fit(X_train)\n",
    "X_train_features = tfidf.transform(X_train)\n",
    "\n",
    "X_test_features = tfidf.transform(X_test)\n",
    " \n",
    "# TODO: try the other models as well\n",
    "# Bayes Classifier\n",
    "from sklearn.naive_bayes import MultinomialNB\n",
    "# Logistic Regression Classifier\n",
    "from sklearn.linear_model import LogisticRegression\n",
    "# Linear Support Vector Machine\n",
    "from sklearn.svm import LinearSVC\n",
    "\n",
    "clf = LogisticRegression().fit(X_train_features, y_train)\n",
    "\n",
    "# predict labels for test data\n",
    "y_pred = clf.predict(X_test_features)\n",
    "\n",
    "# Metrics\n",
    "accuracy_score(y_test, y_pred)\n",
    "f1_score(y_test, y_pred, average='macro')\n",
    "f1_score(y_test, y_pred, average='micro')"
   ]
  }
 ],
 "metadata": {
  "kernelspec": {
   "display_name": "Python 3.9.1 64-bit",
   "language": "python",
   "name": "python3"
  },
  "language_info": {
   "name": "python",
   "version": "3.9.1"
  },
  "orig_nbformat": 4,
  "vscode": {
   "interpreter": {
    "hash": "81794d4967e6c3204c66dcd87b604927b115b27c00565d3d43f05ba2f3a2cb0d"
   }
  }
 },
 "nbformat": 4,
 "nbformat_minor": 2
}
