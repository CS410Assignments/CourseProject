{
 "cells": [
  {
   "cell_type": "code",
   "execution_count": null,
   "metadata": {},
   "outputs": [],
   "source": [
    "# Code adapted from UIUC PS 590: Images and Text as Data\n",
    "# by Prof. Nora Webb Williams. She adapted from adapted \n",
    "# from Diyi Yang and crew at Georgia Tech.\n",
    "import ktrain\n",
    "import pandas as pd\n",
    "\n",
    "import ktrain\n",
    "from ktrain import text as ktext\n",
    "from sklearn.model_selection import train_test_split\n",
    "from sklearn import metrics\n",
    "\n",
    "df = pd.read_csv(\"data.csv\")\n",
    "text = df['text'].to_list()\n",
    "# TODO: Text pre-processing?\n",
    "labels = df['label'].to_list()\n",
    "target_name = ['Not islamophobic', 'Islamophobic']\n",
    "# Create train and test sets\n",
    "X_train, X_test, y_train, y_test = train_test_split(text, labels, random_state = 0)\n",
    "# Preprocess data\n",
    "trn, val, preproc = ktext.texts_from_array(x_train=X_train, y_train=y_train,\n",
    "                                          x_test=X_test, y_test=y_test,\n",
    "                                          class_names = target_name,\n",
    "                                          preprocess_mode='distilbert',\n",
    "                                          maxlen=128)\n",
    "# Building a model and a learner\n",
    "model = ktext.text_classifier('distilbert', train_data=trn, preproc=preproc)\n",
    "learner = ktrain.get_learner(model, train_data=trn, val_data=val, batch_size=16)\n",
    "# Train the model\n",
    "learner.fit_onecycle(3e-5, 4)\n",
    "\n",
    "# Predict on test set\n",
    "p = ktrain.get_predictor(model, preproc)\n",
    "y_pred = p.predict(X_test)\n",
    "\n",
    "y_pred_num = []\n",
    "for pred in y_pred:\n",
    "    rel_index = target_name.index(pred)\n",
    "    y_pred_num.append(rel_index)\n",
    "# Print model metrics\n",
    "print(metrics.classification_report(y_test, y_pred_num))"
   ]
  }
 ],
 "metadata": {
  "kernelspec": {
   "display_name": "Python 3.9.1 64-bit",
   "language": "python",
   "name": "python3"
  },
  "language_info": {
   "name": "python",
   "version": "3.9.1"
  },
  "orig_nbformat": 4,
  "vscode": {
   "interpreter": {
    "hash": "81794d4967e6c3204c66dcd87b604927b115b27c00565d3d43f05ba2f3a2cb0d"
   }
  }
 },
 "nbformat": 4,
 "nbformat_minor": 2
}
